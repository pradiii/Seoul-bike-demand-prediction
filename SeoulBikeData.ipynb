{
 "cells": [
  {
   "cell_type": "code",
   "execution_count": 1,
   "metadata": {},
   "outputs": [],
   "source": [
    "#Import necessary python packages for data analysis\n",
    "import pandas as pd\n",
    "import numpy as np\n",
    "import matplotlib.pyplot as plt\n",
    "import statsmodels.formula.api as smf"
   ]
  },
  {
   "cell_type": "code",
   "execution_count": 2,
   "metadata": {},
   "outputs": [],
   "source": [
    "#Importing and reading dataset using pandas read_csv.\n",
    "bike_data=pd.read_csv('SeoulBikeData.csv',encoding= 'unicode_escape',parse_dates=['Date'])"
   ]
  },
  {
   "cell_type": "code",
   "execution_count": 3,
   "metadata": {},
   "outputs": [
    {
     "data": {
      "text/plain": [
       "(8760, 14)"
      ]
     },
     "execution_count": 3,
     "metadata": {},
     "output_type": "execute_result"
    }
   ],
   "source": [
    "#Get the shape of the data points and variables\n",
    "bike_data.shape"
   ]
  },
  {
   "cell_type": "code",
   "execution_count": 4,
   "metadata": {},
   "outputs": [
    {
     "data": {
      "text/html": [
       "<div>\n",
       "<style scoped>\n",
       "    .dataframe tbody tr th:only-of-type {\n",
       "        vertical-align: middle;\n",
       "    }\n",
       "\n",
       "    .dataframe tbody tr th {\n",
       "        vertical-align: top;\n",
       "    }\n",
       "\n",
       "    .dataframe thead th {\n",
       "        text-align: right;\n",
       "    }\n",
       "</style>\n",
       "<table border=\"1\" class=\"dataframe\">\n",
       "  <thead>\n",
       "    <tr style=\"text-align: right;\">\n",
       "      <th></th>\n",
       "      <th>Date</th>\n",
       "      <th>Rented Bike Count</th>\n",
       "      <th>Hour</th>\n",
       "      <th>Temperature(°C)</th>\n",
       "      <th>Humidity(%)</th>\n",
       "      <th>Wind speed (m/s)</th>\n",
       "      <th>Visibility (10m)</th>\n",
       "      <th>Dew point temperature(°C)</th>\n",
       "      <th>Solar Radiation (MJ/m2)</th>\n",
       "      <th>Rainfall(mm)</th>\n",
       "      <th>Snowfall (cm)</th>\n",
       "      <th>Seasons</th>\n",
       "      <th>Holiday</th>\n",
       "      <th>Functioning Day</th>\n",
       "    </tr>\n",
       "  </thead>\n",
       "  <tbody>\n",
       "    <tr>\n",
       "      <th>0</th>\n",
       "      <td>2017-01-12</td>\n",
       "      <td>254</td>\n",
       "      <td>0</td>\n",
       "      <td>-5.2</td>\n",
       "      <td>37</td>\n",
       "      <td>2.2</td>\n",
       "      <td>2000</td>\n",
       "      <td>-17.6</td>\n",
       "      <td>0.0</td>\n",
       "      <td>0.0</td>\n",
       "      <td>0.0</td>\n",
       "      <td>Winter</td>\n",
       "      <td>No Holiday</td>\n",
       "      <td>Yes</td>\n",
       "    </tr>\n",
       "    <tr>\n",
       "      <th>1</th>\n",
       "      <td>2017-01-12</td>\n",
       "      <td>204</td>\n",
       "      <td>1</td>\n",
       "      <td>-5.5</td>\n",
       "      <td>38</td>\n",
       "      <td>0.8</td>\n",
       "      <td>2000</td>\n",
       "      <td>-17.6</td>\n",
       "      <td>0.0</td>\n",
       "      <td>0.0</td>\n",
       "      <td>0.0</td>\n",
       "      <td>Winter</td>\n",
       "      <td>No Holiday</td>\n",
       "      <td>Yes</td>\n",
       "    </tr>\n",
       "    <tr>\n",
       "      <th>2</th>\n",
       "      <td>2017-01-12</td>\n",
       "      <td>173</td>\n",
       "      <td>2</td>\n",
       "      <td>-6.0</td>\n",
       "      <td>39</td>\n",
       "      <td>1.0</td>\n",
       "      <td>2000</td>\n",
       "      <td>-17.7</td>\n",
       "      <td>0.0</td>\n",
       "      <td>0.0</td>\n",
       "      <td>0.0</td>\n",
       "      <td>Winter</td>\n",
       "      <td>No Holiday</td>\n",
       "      <td>Yes</td>\n",
       "    </tr>\n",
       "    <tr>\n",
       "      <th>3</th>\n",
       "      <td>2017-01-12</td>\n",
       "      <td>107</td>\n",
       "      <td>3</td>\n",
       "      <td>-6.2</td>\n",
       "      <td>40</td>\n",
       "      <td>0.9</td>\n",
       "      <td>2000</td>\n",
       "      <td>-17.6</td>\n",
       "      <td>0.0</td>\n",
       "      <td>0.0</td>\n",
       "      <td>0.0</td>\n",
       "      <td>Winter</td>\n",
       "      <td>No Holiday</td>\n",
       "      <td>Yes</td>\n",
       "    </tr>\n",
       "    <tr>\n",
       "      <th>4</th>\n",
       "      <td>2017-01-12</td>\n",
       "      <td>78</td>\n",
       "      <td>4</td>\n",
       "      <td>-6.0</td>\n",
       "      <td>36</td>\n",
       "      <td>2.3</td>\n",
       "      <td>2000</td>\n",
       "      <td>-18.6</td>\n",
       "      <td>0.0</td>\n",
       "      <td>0.0</td>\n",
       "      <td>0.0</td>\n",
       "      <td>Winter</td>\n",
       "      <td>No Holiday</td>\n",
       "      <td>Yes</td>\n",
       "    </tr>\n",
       "  </tbody>\n",
       "</table>\n",
       "</div>"
      ],
      "text/plain": [
       "        Date  Rented Bike Count  Hour  Temperature(°C)  Humidity(%)  \\\n",
       "0 2017-01-12                254     0             -5.2           37   \n",
       "1 2017-01-12                204     1             -5.5           38   \n",
       "2 2017-01-12                173     2             -6.0           39   \n",
       "3 2017-01-12                107     3             -6.2           40   \n",
       "4 2017-01-12                 78     4             -6.0           36   \n",
       "\n",
       "   Wind speed (m/s)  Visibility (10m)  Dew point temperature(°C)  \\\n",
       "0               2.2              2000                      -17.6   \n",
       "1               0.8              2000                      -17.6   \n",
       "2               1.0              2000                      -17.7   \n",
       "3               0.9              2000                      -17.6   \n",
       "4               2.3              2000                      -18.6   \n",
       "\n",
       "   Solar Radiation (MJ/m2)  Rainfall(mm)  Snowfall (cm) Seasons     Holiday  \\\n",
       "0                      0.0           0.0            0.0  Winter  No Holiday   \n",
       "1                      0.0           0.0            0.0  Winter  No Holiday   \n",
       "2                      0.0           0.0            0.0  Winter  No Holiday   \n",
       "3                      0.0           0.0            0.0  Winter  No Holiday   \n",
       "4                      0.0           0.0            0.0  Winter  No Holiday   \n",
       "\n",
       "  Functioning Day  \n",
       "0             Yes  \n",
       "1             Yes  \n",
       "2             Yes  \n",
       "3             Yes  \n",
       "4             Yes  "
      ]
     },
     "execution_count": 4,
     "metadata": {},
     "output_type": "execute_result"
    }
   ],
   "source": [
    "#View first five rows of the dataset\n",
    "bike_data.head()"
   ]
  },
  {
   "cell_type": "code",
   "execution_count": 5,
   "metadata": {},
   "outputs": [
    {
     "data": {
      "text/plain": [
       "0"
      ]
     },
     "execution_count": 5,
     "metadata": {},
     "output_type": "execute_result"
    }
   ],
   "source": [
    "#Check for duplicate records in dataset\n",
    "bike_data.duplicated().sum()"
   ]
  },
  {
   "cell_type": "code",
   "execution_count": 6,
   "metadata": {},
   "outputs": [
    {
     "data": {
      "text/plain": [
       "Index(['Date', 'Rented Bike Count', 'Hour', 'Temperature(°C)', 'Humidity(%)',\n",
       "       'Wind speed (m/s)', 'Visibility (10m)', 'Dew point temperature(°C)',\n",
       "       'Solar Radiation (MJ/m2)', 'Rainfall(mm)', 'Snowfall (cm)', 'Seasons',\n",
       "       'Holiday', 'Functioning Day'],\n",
       "      dtype='object')"
      ]
     },
     "execution_count": 6,
     "metadata": {},
     "output_type": "execute_result"
    }
   ],
   "source": [
    "#Check for columns\n",
    "bike_data.columns"
   ]
  },
  {
   "cell_type": "code",
   "execution_count": 7,
   "metadata": {},
   "outputs": [
    {
     "name": "stdout",
     "output_type": "stream",
     "text": [
      "<class 'pandas.core.frame.DataFrame'>\n",
      "RangeIndex: 8760 entries, 0 to 8759\n",
      "Data columns (total 14 columns):\n",
      " #   Column                     Non-Null Count  Dtype         \n",
      "---  ------                     --------------  -----         \n",
      " 0   Date                       8760 non-null   datetime64[ns]\n",
      " 1   Rented Bike Count          8760 non-null   int64         \n",
      " 2   Hour                       8760 non-null   int64         \n",
      " 3   Temperature(°C)            8760 non-null   float64       \n",
      " 4   Humidity(%)                8760 non-null   int64         \n",
      " 5   Wind speed (m/s)           8760 non-null   float64       \n",
      " 6   Visibility (10m)           8760 non-null   int64         \n",
      " 7   Dew point temperature(°C)  8760 non-null   float64       \n",
      " 8   Solar Radiation (MJ/m2)    8760 non-null   float64       \n",
      " 9   Rainfall(mm)               8760 non-null   float64       \n",
      " 10  Snowfall (cm)              8760 non-null   float64       \n",
      " 11  Seasons                    8760 non-null   object        \n",
      " 12  Holiday                    8760 non-null   object        \n",
      " 13  Functioning Day            8760 non-null   object        \n",
      "dtypes: datetime64[ns](1), float64(6), int64(4), object(3)\n",
      "memory usage: 958.2+ KB\n"
     ]
    }
   ],
   "source": [
    "#Get datatypes of variables.\n",
    "bike_data.info()"
   ]
  },
  {
   "cell_type": "code",
   "execution_count": 8,
   "metadata": {},
   "outputs": [
    {
     "data": {
      "text/html": [
       "<div>\n",
       "<style scoped>\n",
       "    .dataframe tbody tr th:only-of-type {\n",
       "        vertical-align: middle;\n",
       "    }\n",
       "\n",
       "    .dataframe tbody tr th {\n",
       "        vertical-align: top;\n",
       "    }\n",
       "\n",
       "    .dataframe thead th {\n",
       "        text-align: right;\n",
       "    }\n",
       "</style>\n",
       "<table border=\"1\" class=\"dataframe\">\n",
       "  <thead>\n",
       "    <tr style=\"text-align: right;\">\n",
       "      <th></th>\n",
       "      <th>Rented Bike Count</th>\n",
       "      <th>Hour</th>\n",
       "      <th>Temperature(°C)</th>\n",
       "      <th>Humidity(%)</th>\n",
       "      <th>Wind speed (m/s)</th>\n",
       "      <th>Visibility (10m)</th>\n",
       "      <th>Dew point temperature(°C)</th>\n",
       "      <th>Solar Radiation (MJ/m2)</th>\n",
       "      <th>Rainfall(mm)</th>\n",
       "      <th>Snowfall (cm)</th>\n",
       "    </tr>\n",
       "  </thead>\n",
       "  <tbody>\n",
       "    <tr>\n",
       "      <th>count</th>\n",
       "      <td>8760.000000</td>\n",
       "      <td>8760.000000</td>\n",
       "      <td>8760.000000</td>\n",
       "      <td>8760.000000</td>\n",
       "      <td>8760.000000</td>\n",
       "      <td>8760.000000</td>\n",
       "      <td>8760.000000</td>\n",
       "      <td>8760.000000</td>\n",
       "      <td>8760.000000</td>\n",
       "      <td>8760.000000</td>\n",
       "    </tr>\n",
       "    <tr>\n",
       "      <th>mean</th>\n",
       "      <td>704.602055</td>\n",
       "      <td>11.500000</td>\n",
       "      <td>12.882922</td>\n",
       "      <td>58.226256</td>\n",
       "      <td>1.724909</td>\n",
       "      <td>1436.825799</td>\n",
       "      <td>4.073813</td>\n",
       "      <td>0.569111</td>\n",
       "      <td>0.148687</td>\n",
       "      <td>0.075068</td>\n",
       "    </tr>\n",
       "    <tr>\n",
       "      <th>std</th>\n",
       "      <td>644.997468</td>\n",
       "      <td>6.922582</td>\n",
       "      <td>11.944825</td>\n",
       "      <td>20.362413</td>\n",
       "      <td>1.036300</td>\n",
       "      <td>608.298712</td>\n",
       "      <td>13.060369</td>\n",
       "      <td>0.868746</td>\n",
       "      <td>1.128193</td>\n",
       "      <td>0.436746</td>\n",
       "    </tr>\n",
       "    <tr>\n",
       "      <th>min</th>\n",
       "      <td>0.000000</td>\n",
       "      <td>0.000000</td>\n",
       "      <td>-17.800000</td>\n",
       "      <td>0.000000</td>\n",
       "      <td>0.000000</td>\n",
       "      <td>27.000000</td>\n",
       "      <td>-30.600000</td>\n",
       "      <td>0.000000</td>\n",
       "      <td>0.000000</td>\n",
       "      <td>0.000000</td>\n",
       "    </tr>\n",
       "    <tr>\n",
       "      <th>25%</th>\n",
       "      <td>191.000000</td>\n",
       "      <td>5.750000</td>\n",
       "      <td>3.500000</td>\n",
       "      <td>42.000000</td>\n",
       "      <td>0.900000</td>\n",
       "      <td>940.000000</td>\n",
       "      <td>-4.700000</td>\n",
       "      <td>0.000000</td>\n",
       "      <td>0.000000</td>\n",
       "      <td>0.000000</td>\n",
       "    </tr>\n",
       "    <tr>\n",
       "      <th>50%</th>\n",
       "      <td>504.500000</td>\n",
       "      <td>11.500000</td>\n",
       "      <td>13.700000</td>\n",
       "      <td>57.000000</td>\n",
       "      <td>1.500000</td>\n",
       "      <td>1698.000000</td>\n",
       "      <td>5.100000</td>\n",
       "      <td>0.010000</td>\n",
       "      <td>0.000000</td>\n",
       "      <td>0.000000</td>\n",
       "    </tr>\n",
       "    <tr>\n",
       "      <th>75%</th>\n",
       "      <td>1065.250000</td>\n",
       "      <td>17.250000</td>\n",
       "      <td>22.500000</td>\n",
       "      <td>74.000000</td>\n",
       "      <td>2.300000</td>\n",
       "      <td>2000.000000</td>\n",
       "      <td>14.800000</td>\n",
       "      <td>0.930000</td>\n",
       "      <td>0.000000</td>\n",
       "      <td>0.000000</td>\n",
       "    </tr>\n",
       "    <tr>\n",
       "      <th>max</th>\n",
       "      <td>3556.000000</td>\n",
       "      <td>23.000000</td>\n",
       "      <td>39.400000</td>\n",
       "      <td>98.000000</td>\n",
       "      <td>7.400000</td>\n",
       "      <td>2000.000000</td>\n",
       "      <td>27.200000</td>\n",
       "      <td>3.520000</td>\n",
       "      <td>35.000000</td>\n",
       "      <td>8.800000</td>\n",
       "    </tr>\n",
       "  </tbody>\n",
       "</table>\n",
       "</div>"
      ],
      "text/plain": [
       "       Rented Bike Count         Hour  Temperature(°C)  Humidity(%)  \\\n",
       "count        8760.000000  8760.000000      8760.000000  8760.000000   \n",
       "mean          704.602055    11.500000        12.882922    58.226256   \n",
       "std           644.997468     6.922582        11.944825    20.362413   \n",
       "min             0.000000     0.000000       -17.800000     0.000000   \n",
       "25%           191.000000     5.750000         3.500000    42.000000   \n",
       "50%           504.500000    11.500000        13.700000    57.000000   \n",
       "75%          1065.250000    17.250000        22.500000    74.000000   \n",
       "max          3556.000000    23.000000        39.400000    98.000000   \n",
       "\n",
       "       Wind speed (m/s)  Visibility (10m)  Dew point temperature(°C)  \\\n",
       "count       8760.000000       8760.000000                8760.000000   \n",
       "mean           1.724909       1436.825799                   4.073813   \n",
       "std            1.036300        608.298712                  13.060369   \n",
       "min            0.000000         27.000000                 -30.600000   \n",
       "25%            0.900000        940.000000                  -4.700000   \n",
       "50%            1.500000       1698.000000                   5.100000   \n",
       "75%            2.300000       2000.000000                  14.800000   \n",
       "max            7.400000       2000.000000                  27.200000   \n",
       "\n",
       "       Solar Radiation (MJ/m2)  Rainfall(mm)  Snowfall (cm)  \n",
       "count              8760.000000   8760.000000    8760.000000  \n",
       "mean                  0.569111      0.148687       0.075068  \n",
       "std                   0.868746      1.128193       0.436746  \n",
       "min                   0.000000      0.000000       0.000000  \n",
       "25%                   0.000000      0.000000       0.000000  \n",
       "50%                   0.010000      0.000000       0.000000  \n",
       "75%                   0.930000      0.000000       0.000000  \n",
       "max                   3.520000     35.000000       8.800000  "
      ]
     },
     "execution_count": 8,
     "metadata": {},
     "output_type": "execute_result"
    }
   ],
   "source": [
    "#Get summary of the dataset(like min,max, count, 25th percentile,std, mean values for each variable)\n",
    "bike_data.describe()"
   ]
  },
  {
   "cell_type": "code",
   "execution_count": 9,
   "metadata": {},
   "outputs": [
    {
     "data": {
      "text/plain": [
       "Date                         0\n",
       "Rented Bike Count            0\n",
       "Hour                         0\n",
       "Temperature(°C)              0\n",
       "Humidity(%)                  0\n",
       "Wind speed (m/s)             0\n",
       "Visibility (10m)             0\n",
       "Dew point temperature(°C)    0\n",
       "Solar Radiation (MJ/m2)      0\n",
       "Rainfall(mm)                 0\n",
       "Snowfall (cm)                0\n",
       "Seasons                      0\n",
       "Holiday                      0\n",
       "Functioning Day              0\n",
       "dtype: int64"
      ]
     },
     "execution_count": 9,
     "metadata": {},
     "output_type": "execute_result"
    }
   ],
   "source": [
    "#Check for null values.\n",
    "bike_data.isnull().sum()"
   ]
  },
  {
   "cell_type": "code",
   "execution_count": 10,
   "metadata": {},
   "outputs": [],
   "source": [
    "#Since the variables having units with name, renaming columns for better variable analysis.\n",
    "bike_data.rename(columns={'Rented Bike Count':'Rent_bike_c','Temperature(°C)':'Temperature','Humidity(%)':'Humidity',\n",
    "                          'Wind speed (m/s)':'WindSpeed','Visibility (10m)':'Visibility','Dew point temperature(°C)':'Dew_point_tem',\n",
    "                         'Solar Radiation (MJ/m2)':'Solar_Rad','Rainfall(mm)':'Rainfall','Snowfall (cm)':'Snowfall',\n",
    "                         'Functioning Day':'Func_Day'},inplace=True)"
   ]
  },
  {
   "cell_type": "code",
   "execution_count": 11,
   "metadata": {},
   "outputs": [
    {
     "data": {
      "text/html": [
       "<div>\n",
       "<style scoped>\n",
       "    .dataframe tbody tr th:only-of-type {\n",
       "        vertical-align: middle;\n",
       "    }\n",
       "\n",
       "    .dataframe tbody tr th {\n",
       "        vertical-align: top;\n",
       "    }\n",
       "\n",
       "    .dataframe thead th {\n",
       "        text-align: right;\n",
       "    }\n",
       "</style>\n",
       "<table border=\"1\" class=\"dataframe\">\n",
       "  <thead>\n",
       "    <tr style=\"text-align: right;\">\n",
       "      <th></th>\n",
       "      <th>Date</th>\n",
       "      <th>Rent_bike_c</th>\n",
       "      <th>Hour</th>\n",
       "      <th>Temperature</th>\n",
       "      <th>Humidity</th>\n",
       "      <th>WindSpeed</th>\n",
       "      <th>Visibility</th>\n",
       "      <th>Dew_point_tem</th>\n",
       "      <th>Solar_Rad</th>\n",
       "      <th>Rainfall</th>\n",
       "      <th>Snowfall</th>\n",
       "      <th>Seasons</th>\n",
       "      <th>Holiday</th>\n",
       "      <th>Func_Day</th>\n",
       "    </tr>\n",
       "  </thead>\n",
       "  <tbody>\n",
       "    <tr>\n",
       "      <th>0</th>\n",
       "      <td>2017-01-12</td>\n",
       "      <td>254</td>\n",
       "      <td>0</td>\n",
       "      <td>-5.2</td>\n",
       "      <td>37</td>\n",
       "      <td>2.2</td>\n",
       "      <td>2000</td>\n",
       "      <td>-17.6</td>\n",
       "      <td>0.0</td>\n",
       "      <td>0.0</td>\n",
       "      <td>0.0</td>\n",
       "      <td>Winter</td>\n",
       "      <td>No Holiday</td>\n",
       "      <td>Yes</td>\n",
       "    </tr>\n",
       "    <tr>\n",
       "      <th>1</th>\n",
       "      <td>2017-01-12</td>\n",
       "      <td>204</td>\n",
       "      <td>1</td>\n",
       "      <td>-5.5</td>\n",
       "      <td>38</td>\n",
       "      <td>0.8</td>\n",
       "      <td>2000</td>\n",
       "      <td>-17.6</td>\n",
       "      <td>0.0</td>\n",
       "      <td>0.0</td>\n",
       "      <td>0.0</td>\n",
       "      <td>Winter</td>\n",
       "      <td>No Holiday</td>\n",
       "      <td>Yes</td>\n",
       "    </tr>\n",
       "    <tr>\n",
       "      <th>2</th>\n",
       "      <td>2017-01-12</td>\n",
       "      <td>173</td>\n",
       "      <td>2</td>\n",
       "      <td>-6.0</td>\n",
       "      <td>39</td>\n",
       "      <td>1.0</td>\n",
       "      <td>2000</td>\n",
       "      <td>-17.7</td>\n",
       "      <td>0.0</td>\n",
       "      <td>0.0</td>\n",
       "      <td>0.0</td>\n",
       "      <td>Winter</td>\n",
       "      <td>No Holiday</td>\n",
       "      <td>Yes</td>\n",
       "    </tr>\n",
       "  </tbody>\n",
       "</table>\n",
       "</div>"
      ],
      "text/plain": [
       "        Date  Rent_bike_c  Hour  Temperature  Humidity  WindSpeed  Visibility  \\\n",
       "0 2017-01-12          254     0         -5.2        37        2.2        2000   \n",
       "1 2017-01-12          204     1         -5.5        38        0.8        2000   \n",
       "2 2017-01-12          173     2         -6.0        39        1.0        2000   \n",
       "\n",
       "   Dew_point_tem  Solar_Rad  Rainfall  Snowfall Seasons     Holiday Func_Day  \n",
       "0          -17.6        0.0       0.0       0.0  Winter  No Holiday      Yes  \n",
       "1          -17.6        0.0       0.0       0.0  Winter  No Holiday      Yes  \n",
       "2          -17.7        0.0       0.0       0.0  Winter  No Holiday      Yes  "
      ]
     },
     "execution_count": 11,
     "metadata": {},
     "output_type": "execute_result"
    }
   ],
   "source": [
    "#Check first 3 records from dataset.\n",
    "bike_data.head(3)"
   ]
  },
  {
   "cell_type": "code",
   "execution_count": 12,
   "metadata": {},
   "outputs": [
    {
     "data": {
      "text/plain": [
       "Spring    2208\n",
       "Summer    2208\n",
       "Autumn    2184\n",
       "Winter    2160\n",
       "Name: Seasons, dtype: int64"
      ]
     },
     "execution_count": 12,
     "metadata": {},
     "output_type": "execute_result"
    }
   ],
   "source": [
    "#Get distinct categories/classes counts for Season categories\n",
    "bike_data['Seasons'].value_counts()"
   ]
  },
  {
   "cell_type": "code",
   "execution_count": 13,
   "metadata": {},
   "outputs": [
    {
     "data": {
      "text/plain": [
       "No Holiday    8328\n",
       "Holiday        432\n",
       "Name: Holiday, dtype: int64"
      ]
     },
     "execution_count": 13,
     "metadata": {},
     "output_type": "execute_result"
    }
   ],
   "source": [
    "#Get distinct categories/classes counts for Holiday variable\n",
    "bike_data['Holiday'].value_counts()"
   ]
  },
  {
   "cell_type": "code",
   "execution_count": 14,
   "metadata": {},
   "outputs": [
    {
     "data": {
      "text/plain": [
       "Yes    8465\n",
       "No      295\n",
       "Name: Func_Day, dtype: int64"
      ]
     },
     "execution_count": 14,
     "metadata": {},
     "output_type": "execute_result"
    }
   ],
   "source": [
    "#Get distinct categories/classes counts for Functioning Day variable\n",
    "bike_data['Func_Day'].value_counts()"
   ]
  },
  {
   "cell_type": "code",
   "execution_count": 15,
   "metadata": {},
   "outputs": [],
   "source": [
    "#For better analysis of rented bike count derive few variables(like year,month and weekdasy) to see the trend and seasonality.\n",
    "#Understand rented bike counts in months/days using barplots.\n",
    "#Before that derive new variables as Year,Months and day.\n",
    "bike_data['Year'] = bike_data.Date.dt.year\n",
    "bike_data['Month'] = bike_data.Date.dt.month_name().str[:3]\n",
    "bike_data['Weekdays'] = bike_data.Date.dt.weekday"
   ]
  },
  {
   "cell_type": "code",
   "execution_count": 16,
   "metadata": {},
   "outputs": [
    {
     "data": {
      "text/html": [
       "<div>\n",
       "<style scoped>\n",
       "    .dataframe tbody tr th:only-of-type {\n",
       "        vertical-align: middle;\n",
       "    }\n",
       "\n",
       "    .dataframe tbody tr th {\n",
       "        vertical-align: top;\n",
       "    }\n",
       "\n",
       "    .dataframe thead th {\n",
       "        text-align: right;\n",
       "    }\n",
       "</style>\n",
       "<table border=\"1\" class=\"dataframe\">\n",
       "  <thead>\n",
       "    <tr style=\"text-align: right;\">\n",
       "      <th></th>\n",
       "      <th>Date</th>\n",
       "      <th>Rent_bike_c</th>\n",
       "      <th>Hour</th>\n",
       "      <th>Temperature</th>\n",
       "      <th>Humidity</th>\n",
       "      <th>WindSpeed</th>\n",
       "      <th>Visibility</th>\n",
       "      <th>Dew_point_tem</th>\n",
       "      <th>Solar_Rad</th>\n",
       "      <th>Rainfall</th>\n",
       "      <th>Snowfall</th>\n",
       "      <th>Seasons</th>\n",
       "      <th>Holiday</th>\n",
       "      <th>Func_Day</th>\n",
       "      <th>Year</th>\n",
       "      <th>Month</th>\n",
       "      <th>Weekdays</th>\n",
       "    </tr>\n",
       "  </thead>\n",
       "  <tbody>\n",
       "    <tr>\n",
       "      <th>0</th>\n",
       "      <td>2017-01-12</td>\n",
       "      <td>254</td>\n",
       "      <td>0</td>\n",
       "      <td>-5.2</td>\n",
       "      <td>37</td>\n",
       "      <td>2.2</td>\n",
       "      <td>2000</td>\n",
       "      <td>-17.6</td>\n",
       "      <td>0.0</td>\n",
       "      <td>0.0</td>\n",
       "      <td>0.0</td>\n",
       "      <td>Winter</td>\n",
       "      <td>No Holiday</td>\n",
       "      <td>Yes</td>\n",
       "      <td>2017</td>\n",
       "      <td>Jan</td>\n",
       "      <td>3</td>\n",
       "    </tr>\n",
       "    <tr>\n",
       "      <th>1</th>\n",
       "      <td>2017-01-12</td>\n",
       "      <td>204</td>\n",
       "      <td>1</td>\n",
       "      <td>-5.5</td>\n",
       "      <td>38</td>\n",
       "      <td>0.8</td>\n",
       "      <td>2000</td>\n",
       "      <td>-17.6</td>\n",
       "      <td>0.0</td>\n",
       "      <td>0.0</td>\n",
       "      <td>0.0</td>\n",
       "      <td>Winter</td>\n",
       "      <td>No Holiday</td>\n",
       "      <td>Yes</td>\n",
       "      <td>2017</td>\n",
       "      <td>Jan</td>\n",
       "      <td>3</td>\n",
       "    </tr>\n",
       "    <tr>\n",
       "      <th>2</th>\n",
       "      <td>2017-01-12</td>\n",
       "      <td>173</td>\n",
       "      <td>2</td>\n",
       "      <td>-6.0</td>\n",
       "      <td>39</td>\n",
       "      <td>1.0</td>\n",
       "      <td>2000</td>\n",
       "      <td>-17.7</td>\n",
       "      <td>0.0</td>\n",
       "      <td>0.0</td>\n",
       "      <td>0.0</td>\n",
       "      <td>Winter</td>\n",
       "      <td>No Holiday</td>\n",
       "      <td>Yes</td>\n",
       "      <td>2017</td>\n",
       "      <td>Jan</td>\n",
       "      <td>3</td>\n",
       "    </tr>\n",
       "    <tr>\n",
       "      <th>3</th>\n",
       "      <td>2017-01-12</td>\n",
       "      <td>107</td>\n",
       "      <td>3</td>\n",
       "      <td>-6.2</td>\n",
       "      <td>40</td>\n",
       "      <td>0.9</td>\n",
       "      <td>2000</td>\n",
       "      <td>-17.6</td>\n",
       "      <td>0.0</td>\n",
       "      <td>0.0</td>\n",
       "      <td>0.0</td>\n",
       "      <td>Winter</td>\n",
       "      <td>No Holiday</td>\n",
       "      <td>Yes</td>\n",
       "      <td>2017</td>\n",
       "      <td>Jan</td>\n",
       "      <td>3</td>\n",
       "    </tr>\n",
       "    <tr>\n",
       "      <th>4</th>\n",
       "      <td>2017-01-12</td>\n",
       "      <td>78</td>\n",
       "      <td>4</td>\n",
       "      <td>-6.0</td>\n",
       "      <td>36</td>\n",
       "      <td>2.3</td>\n",
       "      <td>2000</td>\n",
       "      <td>-18.6</td>\n",
       "      <td>0.0</td>\n",
       "      <td>0.0</td>\n",
       "      <td>0.0</td>\n",
       "      <td>Winter</td>\n",
       "      <td>No Holiday</td>\n",
       "      <td>Yes</td>\n",
       "      <td>2017</td>\n",
       "      <td>Jan</td>\n",
       "      <td>3</td>\n",
       "    </tr>\n",
       "  </tbody>\n",
       "</table>\n",
       "</div>"
      ],
      "text/plain": [
       "        Date  Rent_bike_c  Hour  Temperature  Humidity  WindSpeed  Visibility  \\\n",
       "0 2017-01-12          254     0         -5.2        37        2.2        2000   \n",
       "1 2017-01-12          204     1         -5.5        38        0.8        2000   \n",
       "2 2017-01-12          173     2         -6.0        39        1.0        2000   \n",
       "3 2017-01-12          107     3         -6.2        40        0.9        2000   \n",
       "4 2017-01-12           78     4         -6.0        36        2.3        2000   \n",
       "\n",
       "   Dew_point_tem  Solar_Rad  Rainfall  Snowfall Seasons     Holiday Func_Day  \\\n",
       "0          -17.6        0.0       0.0       0.0  Winter  No Holiday      Yes   \n",
       "1          -17.6        0.0       0.0       0.0  Winter  No Holiday      Yes   \n",
       "2          -17.7        0.0       0.0       0.0  Winter  No Holiday      Yes   \n",
       "3          -17.6        0.0       0.0       0.0  Winter  No Holiday      Yes   \n",
       "4          -18.6        0.0       0.0       0.0  Winter  No Holiday      Yes   \n",
       "\n",
       "   Year Month  Weekdays  \n",
       "0  2017   Jan         3  \n",
       "1  2017   Jan         3  \n",
       "2  2017   Jan         3  \n",
       "3  2017   Jan         3  \n",
       "4  2017   Jan         3  "
      ]
     },
     "execution_count": 16,
     "metadata": {},
     "output_type": "execute_result"
    }
   ],
   "source": [
    "#View first five records of dataframe\n",
    "bike_data.head()"
   ]
  },
  {
   "cell_type": "code",
   "execution_count": 17,
   "metadata": {},
   "outputs": [
    {
     "data": {
      "text/html": [
       "<div>\n",
       "<style scoped>\n",
       "    .dataframe tbody tr th:only-of-type {\n",
       "        vertical-align: middle;\n",
       "    }\n",
       "\n",
       "    .dataframe tbody tr th {\n",
       "        vertical-align: top;\n",
       "    }\n",
       "\n",
       "    .dataframe thead th {\n",
       "        text-align: right;\n",
       "    }\n",
       "</style>\n",
       "<table border=\"1\" class=\"dataframe\">\n",
       "  <thead>\n",
       "    <tr style=\"text-align: right;\">\n",
       "      <th></th>\n",
       "      <th>Date</th>\n",
       "      <th>Rent_bike_c</th>\n",
       "      <th>Hour</th>\n",
       "      <th>Temperature</th>\n",
       "      <th>Humidity</th>\n",
       "      <th>WindSpeed</th>\n",
       "      <th>Visibility</th>\n",
       "      <th>Dew_point_tem</th>\n",
       "      <th>Solar_Rad</th>\n",
       "      <th>Rainfall</th>\n",
       "      <th>Snowfall</th>\n",
       "      <th>Seasons</th>\n",
       "      <th>Holiday</th>\n",
       "      <th>Func_Day</th>\n",
       "      <th>Year</th>\n",
       "      <th>Month</th>\n",
       "      <th>Weekdays</th>\n",
       "    </tr>\n",
       "  </thead>\n",
       "  <tbody>\n",
       "    <tr>\n",
       "      <th>8755</th>\n",
       "      <td>2018-11-30</td>\n",
       "      <td>1003</td>\n",
       "      <td>19</td>\n",
       "      <td>4.2</td>\n",
       "      <td>34</td>\n",
       "      <td>2.6</td>\n",
       "      <td>1894</td>\n",
       "      <td>-10.3</td>\n",
       "      <td>0.0</td>\n",
       "      <td>0.0</td>\n",
       "      <td>0.0</td>\n",
       "      <td>Autumn</td>\n",
       "      <td>No Holiday</td>\n",
       "      <td>Yes</td>\n",
       "      <td>2018</td>\n",
       "      <td>Nov</td>\n",
       "      <td>4</td>\n",
       "    </tr>\n",
       "    <tr>\n",
       "      <th>8756</th>\n",
       "      <td>2018-11-30</td>\n",
       "      <td>764</td>\n",
       "      <td>20</td>\n",
       "      <td>3.4</td>\n",
       "      <td>37</td>\n",
       "      <td>2.3</td>\n",
       "      <td>2000</td>\n",
       "      <td>-9.9</td>\n",
       "      <td>0.0</td>\n",
       "      <td>0.0</td>\n",
       "      <td>0.0</td>\n",
       "      <td>Autumn</td>\n",
       "      <td>No Holiday</td>\n",
       "      <td>Yes</td>\n",
       "      <td>2018</td>\n",
       "      <td>Nov</td>\n",
       "      <td>4</td>\n",
       "    </tr>\n",
       "    <tr>\n",
       "      <th>8757</th>\n",
       "      <td>2018-11-30</td>\n",
       "      <td>694</td>\n",
       "      <td>21</td>\n",
       "      <td>2.6</td>\n",
       "      <td>39</td>\n",
       "      <td>0.3</td>\n",
       "      <td>1968</td>\n",
       "      <td>-9.9</td>\n",
       "      <td>0.0</td>\n",
       "      <td>0.0</td>\n",
       "      <td>0.0</td>\n",
       "      <td>Autumn</td>\n",
       "      <td>No Holiday</td>\n",
       "      <td>Yes</td>\n",
       "      <td>2018</td>\n",
       "      <td>Nov</td>\n",
       "      <td>4</td>\n",
       "    </tr>\n",
       "    <tr>\n",
       "      <th>8758</th>\n",
       "      <td>2018-11-30</td>\n",
       "      <td>712</td>\n",
       "      <td>22</td>\n",
       "      <td>2.1</td>\n",
       "      <td>41</td>\n",
       "      <td>1.0</td>\n",
       "      <td>1859</td>\n",
       "      <td>-9.8</td>\n",
       "      <td>0.0</td>\n",
       "      <td>0.0</td>\n",
       "      <td>0.0</td>\n",
       "      <td>Autumn</td>\n",
       "      <td>No Holiday</td>\n",
       "      <td>Yes</td>\n",
       "      <td>2018</td>\n",
       "      <td>Nov</td>\n",
       "      <td>4</td>\n",
       "    </tr>\n",
       "    <tr>\n",
       "      <th>8759</th>\n",
       "      <td>2018-11-30</td>\n",
       "      <td>584</td>\n",
       "      <td>23</td>\n",
       "      <td>1.9</td>\n",
       "      <td>43</td>\n",
       "      <td>1.3</td>\n",
       "      <td>1909</td>\n",
       "      <td>-9.3</td>\n",
       "      <td>0.0</td>\n",
       "      <td>0.0</td>\n",
       "      <td>0.0</td>\n",
       "      <td>Autumn</td>\n",
       "      <td>No Holiday</td>\n",
       "      <td>Yes</td>\n",
       "      <td>2018</td>\n",
       "      <td>Nov</td>\n",
       "      <td>4</td>\n",
       "    </tr>\n",
       "  </tbody>\n",
       "</table>\n",
       "</div>"
      ],
      "text/plain": [
       "           Date  Rent_bike_c  Hour  Temperature  Humidity  WindSpeed  \\\n",
       "8755 2018-11-30         1003    19          4.2        34        2.6   \n",
       "8756 2018-11-30          764    20          3.4        37        2.3   \n",
       "8757 2018-11-30          694    21          2.6        39        0.3   \n",
       "8758 2018-11-30          712    22          2.1        41        1.0   \n",
       "8759 2018-11-30          584    23          1.9        43        1.3   \n",
       "\n",
       "      Visibility  Dew_point_tem  Solar_Rad  Rainfall  Snowfall Seasons  \\\n",
       "8755        1894          -10.3        0.0       0.0       0.0  Autumn   \n",
       "8756        2000           -9.9        0.0       0.0       0.0  Autumn   \n",
       "8757        1968           -9.9        0.0       0.0       0.0  Autumn   \n",
       "8758        1859           -9.8        0.0       0.0       0.0  Autumn   \n",
       "8759        1909           -9.3        0.0       0.0       0.0  Autumn   \n",
       "\n",
       "         Holiday Func_Day  Year Month  Weekdays  \n",
       "8755  No Holiday      Yes  2018   Nov         4  \n",
       "8756  No Holiday      Yes  2018   Nov         4  \n",
       "8757  No Holiday      Yes  2018   Nov         4  \n",
       "8758  No Holiday      Yes  2018   Nov         4  \n",
       "8759  No Holiday      Yes  2018   Nov         4  "
      ]
     },
     "execution_count": 17,
     "metadata": {},
     "output_type": "execute_result"
    }
   ],
   "source": [
    "#View bottom five records of dataframe.\n",
    "bike_data.tail()"
   ]
  },
  {
   "cell_type": "code",
   "execution_count": 18,
   "metadata": {},
   "outputs": [],
   "source": [
    "#Mapping days to weekdays column\n",
    "bike_data['Weekdays'].replace({0:'Monday',1:'Tuesday',2:'Wednesday',3:'Thursday',4:'Friday',5:'Saturday',6:'Sunday'},inplace=True)"
   ]
  },
  {
   "cell_type": "code",
   "execution_count": 19,
   "metadata": {},
   "outputs": [],
   "source": [
    "#Ordering data based on categories.\n",
    "bike_data[\"Weekdays\"] = pd.Categorical(bike_data[\"Weekdays\"], categories=['Monday','Tuesday','Wednesday',\n",
    "                                                                        'Thursday','Friday','Saturday', 'Sunday'],ordered=True)"
   ]
  },
  {
   "cell_type": "code",
   "execution_count": 20,
   "metadata": {},
   "outputs": [
    {
     "data": {
      "text/html": [
       "<div>\n",
       "<style scoped>\n",
       "    .dataframe tbody tr th:only-of-type {\n",
       "        vertical-align: middle;\n",
       "    }\n",
       "\n",
       "    .dataframe tbody tr th {\n",
       "        vertical-align: top;\n",
       "    }\n",
       "\n",
       "    .dataframe thead th {\n",
       "        text-align: right;\n",
       "    }\n",
       "</style>\n",
       "<table border=\"1\" class=\"dataframe\">\n",
       "  <thead>\n",
       "    <tr style=\"text-align: right;\">\n",
       "      <th></th>\n",
       "      <th>Date</th>\n",
       "      <th>Rent_bike_c</th>\n",
       "      <th>Hour</th>\n",
       "      <th>Temperature</th>\n",
       "      <th>Humidity</th>\n",
       "      <th>WindSpeed</th>\n",
       "      <th>Visibility</th>\n",
       "      <th>Dew_point_tem</th>\n",
       "      <th>Solar_Rad</th>\n",
       "      <th>Rainfall</th>\n",
       "      <th>Snowfall</th>\n",
       "      <th>Seasons</th>\n",
       "      <th>Holiday</th>\n",
       "      <th>Func_Day</th>\n",
       "      <th>Year</th>\n",
       "      <th>Month</th>\n",
       "      <th>Weekdays</th>\n",
       "    </tr>\n",
       "  </thead>\n",
       "  <tbody>\n",
       "    <tr>\n",
       "      <th>0</th>\n",
       "      <td>2017-01-12</td>\n",
       "      <td>254</td>\n",
       "      <td>0</td>\n",
       "      <td>-5.2</td>\n",
       "      <td>37</td>\n",
       "      <td>2.2</td>\n",
       "      <td>2000</td>\n",
       "      <td>-17.6</td>\n",
       "      <td>0.0</td>\n",
       "      <td>0.0</td>\n",
       "      <td>0.0</td>\n",
       "      <td>Winter</td>\n",
       "      <td>No Holiday</td>\n",
       "      <td>Yes</td>\n",
       "      <td>2017</td>\n",
       "      <td>Jan</td>\n",
       "      <td>Thursday</td>\n",
       "    </tr>\n",
       "    <tr>\n",
       "      <th>1</th>\n",
       "      <td>2017-01-12</td>\n",
       "      <td>204</td>\n",
       "      <td>1</td>\n",
       "      <td>-5.5</td>\n",
       "      <td>38</td>\n",
       "      <td>0.8</td>\n",
       "      <td>2000</td>\n",
       "      <td>-17.6</td>\n",
       "      <td>0.0</td>\n",
       "      <td>0.0</td>\n",
       "      <td>0.0</td>\n",
       "      <td>Winter</td>\n",
       "      <td>No Holiday</td>\n",
       "      <td>Yes</td>\n",
       "      <td>2017</td>\n",
       "      <td>Jan</td>\n",
       "      <td>Thursday</td>\n",
       "    </tr>\n",
       "    <tr>\n",
       "      <th>2</th>\n",
       "      <td>2017-01-12</td>\n",
       "      <td>173</td>\n",
       "      <td>2</td>\n",
       "      <td>-6.0</td>\n",
       "      <td>39</td>\n",
       "      <td>1.0</td>\n",
       "      <td>2000</td>\n",
       "      <td>-17.7</td>\n",
       "      <td>0.0</td>\n",
       "      <td>0.0</td>\n",
       "      <td>0.0</td>\n",
       "      <td>Winter</td>\n",
       "      <td>No Holiday</td>\n",
       "      <td>Yes</td>\n",
       "      <td>2017</td>\n",
       "      <td>Jan</td>\n",
       "      <td>Thursday</td>\n",
       "    </tr>\n",
       "    <tr>\n",
       "      <th>3</th>\n",
       "      <td>2017-01-12</td>\n",
       "      <td>107</td>\n",
       "      <td>3</td>\n",
       "      <td>-6.2</td>\n",
       "      <td>40</td>\n",
       "      <td>0.9</td>\n",
       "      <td>2000</td>\n",
       "      <td>-17.6</td>\n",
       "      <td>0.0</td>\n",
       "      <td>0.0</td>\n",
       "      <td>0.0</td>\n",
       "      <td>Winter</td>\n",
       "      <td>No Holiday</td>\n",
       "      <td>Yes</td>\n",
       "      <td>2017</td>\n",
       "      <td>Jan</td>\n",
       "      <td>Thursday</td>\n",
       "    </tr>\n",
       "    <tr>\n",
       "      <th>4</th>\n",
       "      <td>2017-01-12</td>\n",
       "      <td>78</td>\n",
       "      <td>4</td>\n",
       "      <td>-6.0</td>\n",
       "      <td>36</td>\n",
       "      <td>2.3</td>\n",
       "      <td>2000</td>\n",
       "      <td>-18.6</td>\n",
       "      <td>0.0</td>\n",
       "      <td>0.0</td>\n",
       "      <td>0.0</td>\n",
       "      <td>Winter</td>\n",
       "      <td>No Holiday</td>\n",
       "      <td>Yes</td>\n",
       "      <td>2017</td>\n",
       "      <td>Jan</td>\n",
       "      <td>Thursday</td>\n",
       "    </tr>\n",
       "  </tbody>\n",
       "</table>\n",
       "</div>"
      ],
      "text/plain": [
       "        Date  Rent_bike_c  Hour  Temperature  Humidity  WindSpeed  Visibility  \\\n",
       "0 2017-01-12          254     0         -5.2        37        2.2        2000   \n",
       "1 2017-01-12          204     1         -5.5        38        0.8        2000   \n",
       "2 2017-01-12          173     2         -6.0        39        1.0        2000   \n",
       "3 2017-01-12          107     3         -6.2        40        0.9        2000   \n",
       "4 2017-01-12           78     4         -6.0        36        2.3        2000   \n",
       "\n",
       "   Dew_point_tem  Solar_Rad  Rainfall  Snowfall Seasons     Holiday Func_Day  \\\n",
       "0          -17.6        0.0       0.0       0.0  Winter  No Holiday      Yes   \n",
       "1          -17.6        0.0       0.0       0.0  Winter  No Holiday      Yes   \n",
       "2          -17.7        0.0       0.0       0.0  Winter  No Holiday      Yes   \n",
       "3          -17.6        0.0       0.0       0.0  Winter  No Holiday      Yes   \n",
       "4          -18.6        0.0       0.0       0.0  Winter  No Holiday      Yes   \n",
       "\n",
       "   Year Month  Weekdays  \n",
       "0  2017   Jan  Thursday  \n",
       "1  2017   Jan  Thursday  \n",
       "2  2017   Jan  Thursday  \n",
       "3  2017   Jan  Thursday  \n",
       "4  2017   Jan  Thursday  "
      ]
     },
     "execution_count": 20,
     "metadata": {},
     "output_type": "execute_result"
    }
   ],
   "source": [
    "#View to 5 records from dataframe\n",
    "bike_data.head()"
   ]
  },
  {
   "cell_type": "code",
   "execution_count": 21,
   "metadata": {},
   "outputs": [],
   "source": [
    "#Inport seaborn package for data visualization\n",
    "import seaborn as sns"
   ]
  },
  {
   "cell_type": "code",
   "execution_count": 22,
   "metadata": {},
   "outputs": [
    {
     "data": {
      "text/plain": [
       "<matplotlib.axes._subplots.AxesSubplot at 0x2050cf333c8>"
      ]
     },
     "execution_count": 22,
     "metadata": {},
     "output_type": "execute_result"
    },
    {
     "data": {
      "image/png": "[encoded data removed]",
      "text/plain": [
       "<Figure size 432x288 with 1 Axes>"
      ]
     },
     "metadata": {
      "needs_background": "light"
     },
     "output_type": "display_data"
    }
   ],
   "source": [
    "#Frequesncy of Rented bike counts in each season categories.\n",
    "#From the below barchart its clearly shows that in summer season peoples are more likely to take rented bike \n",
    "#compared to other seasons, and in winter season less peoples take bike for rent. \n",
    "sns.barplot(data=bike_data,x='Seasons',y='Rent_bike_c')"
   ]
  },
  {
   "cell_type": "code",
   "execution_count": 23,
   "metadata": {},
   "outputs": [
    {
     "data": {
      "text/plain": [
       "<matplotlib.axes._subplots.AxesSubplot at 0x2050cfea348>"
      ]
     },
     "execution_count": 23,
     "metadata": {},
     "output_type": "execute_result"
    },
    {
     "data": {
      "image/png": "[encoded data removed]",
      "text/plain": [
       "<Figure size 432x288 with 1 Axes>"
      ]
     },
     "metadata": {
      "needs_background": "light"
     },
     "output_type": "display_data"
    }
   ],
   "source": [
    "#Barplot Rented bike count VS Holiday\n",
    "#From the below chart, here when there is no holiday people are taking more rented bikes.\n",
    "#One thing we can understand from this is, more likely officials who are going to office or college studentes are using rented bikes\n",
    "sns.barplot(data=bike_data,x='Holiday',y='Rent_bike_c')"
   ]
  },
  {
   "cell_type": "code",
   "execution_count": 24,
   "metadata": {},
   "outputs": [
    {
     "data": {
      "text/plain": [
       "<matplotlib.axes._subplots.AxesSubplot at 0x2050d06a488>"
      ]
     },
     "execution_count": 24,
     "metadata": {},
     "output_type": "execute_result"
    },
    {
     "data": {
      "image/png": "[encoded data removed]",
      "text/plain": [
       "<Figure size 432x288 with 1 Axes>"
      ]
     },
     "metadata": {
      "needs_background": "light"
     },
     "output_type": "display_data"
    }
   ],
   "source": [
    "#Rented bike count vs Functioning day\n",
    "sns.barplot(data=bike_data,x='Func_Day',y='Rent_bike_c')"
   ]
  },
  {
   "cell_type": "code",
   "execution_count": 25,
   "metadata": {},
   "outputs": [
    {
     "data": {
      "text/plain": [
       "<matplotlib.axes._subplots.AxesSubplot at 0x2050d0d4348>"
      ]
     },
     "execution_count": 25,
     "metadata": {},
     "output_type": "execute_result"
    },
    {
     "data": {
      "image/png": "[encoded data removed]",
      "text/plain": [
       "<Figure size 432x288 with 1 Axes>"
      ]
     },
     "metadata": {
      "needs_background": "light"
     },
     "output_type": "display_data"
    }
   ],
   "source": [
    "#Rented bike count VS Year\n",
    "#Comparitively in 2018 more rentred bikes been used than 2017.\n",
    "sns.barplot(data=bike_data,x='Year',y='Rent_bike_c')"
   ]
  },
  {
   "cell_type": "code",
   "execution_count": 26,
   "metadata": {},
   "outputs": [
    {
     "data": {
      "text/plain": [
       "<matplotlib.axes._subplots.AxesSubplot at 0x2050d136408>"
      ]
     },
     "execution_count": 26,
     "metadata": {},
     "output_type": "execute_result"
    },
    {
     "data": {
      "image/png": "[encoded data removed]",
      "text/plain": [
       "<Figure size 576x360 with 1 Axes>"
      ]
     },
     "metadata": {
      "needs_background": "light"
     },
     "output_type": "display_data"
    }
   ],
   "source": [
    "#Rented bike count in respective months\n",
    "plt.figure(figsize=(8, 5))\n",
    "sns.barplot(data=bike_data,x='Month',y='Rent_bike_c')"
   ]
  },
  {
   "cell_type": "code",
   "execution_count": 27,
   "metadata": {},
   "outputs": [
    {
     "data": {
      "text/plain": [
       "<matplotlib.axes._subplots.AxesSubplot at 0x2050d206b48>"
      ]
     },
     "execution_count": 27,
     "metadata": {},
     "output_type": "execute_result"
    },
    {
     "data": {
      "image/png": "[encoded data removed]",
      "text/plain": [
       "<Figure size 576x360 with 1 Axes>"
      ]
     },
     "metadata": {
      "needs_background": "light"
     },
     "output_type": "display_data"
    }
   ],
   "source": [
    "#Rented bike count in respective weekdays\n",
    "#AS we can see here in weekdays rented bike count is more than weekends.\n",
    "plt.figure(figsize=(8, 5))\n",
    "sns.barplot(data=bike_data,x='Weekdays',y='Rent_bike_c')"
   ]
  },
  {
   "cell_type": "code",
   "execution_count": 28,
   "metadata": {},
   "outputs": [
    {
     "data": {
      "text/plain": [
       "<matplotlib.axes._subplots.AxesSubplot at 0x2050d29a608>"
      ]
     },
     "execution_count": 28,
     "metadata": {},
     "output_type": "execute_result"
    },
    {
     "data": {
      "image/png": "[encoded data removed]",
      "text/plain": [
       "<Figure size 504x360 with 1 Axes>"
      ]
     },
     "metadata": {
      "needs_background": "light"
     },
     "output_type": "display_data"
    }
   ],
   "source": [
    "#Lineplot for Rented bike count VS Month to see the trend and seasonality.\n",
    "plt.figure(figsize=(7, 5))\n",
    "sns.lineplot(data=bike_data,x='Month',y='Rent_bike_c')"
   ]
  },
  {
   "cell_type": "code",
   "execution_count": 29,
   "metadata": {},
   "outputs": [
    {
     "data": {
      "text/plain": [
       "<matplotlib.axes._subplots.AxesSubplot at 0x2050d329d88>"
      ]
     },
     "execution_count": 29,
     "metadata": {},
     "output_type": "execute_result"
    },
    {
     "data": {
      "image/png": "[encoded data removed]",
      "text/plain": [
       "<Figure size 504x288 with 1 Axes>"
      ]
     },
     "metadata": {
      "needs_background": "light"
     },
     "output_type": "display_data"
    }
   ],
   "source": [
    "#Lineplot for Rented bike count VS Weekdays to see the trend and seasonality.\n",
    "plt.figure(figsize=(7, 4))\n",
    "sns.lineplot(data=bike_data,x='Weekdays',y='Rent_bike_c')"
   ]
  },
  {
   "cell_type": "code",
   "execution_count": 30,
   "metadata": {},
   "outputs": [
    {
     "data": {
      "text/plain": [
       "<matplotlib.axes._subplots.AxesSubplot at 0x2050d397ec8>"
      ]
     },
     "execution_count": 30,
     "metadata": {},
     "output_type": "execute_result"
    },
    {
     "data": {
      "image/png": "[encoded data removed]",
      "text/plain": [
       "<Figure size 432x288 with 1 Axes>"
      ]
     },
     "metadata": {
      "needs_background": "light"
     },
     "output_type": "display_data"
    }
   ],
   "source": [
    "#Univariate Analysis to see the distribution of Temperature variable\n",
    "sns.distplot(bike_data.Temperature)"
   ]
  },
  {
   "cell_type": "code",
   "execution_count": 31,
   "metadata": {},
   "outputs": [
    {
     "data": {
      "text/plain": [
       "<matplotlib.axes._subplots.AxesSubplot at 0x2050d46d348>"
      ]
     },
     "execution_count": 31,
     "metadata": {},
     "output_type": "execute_result"
    },
    {
     "data": {
      "image/png": "[encoded data removed]",
      "text/plain": [
       "<Figure size 432x288 with 1 Axes>"
      ]
     },
     "metadata": {
      "needs_background": "light"
     },
     "output_type": "display_data"
    }
   ],
   "source": [
    "#Analysis to see the distribution of Humidity variable\n",
    "sns.distplot(bike_data.Humidity)"
   ]
  },
  {
   "cell_type": "code",
   "execution_count": 32,
   "metadata": {},
   "outputs": [
    {
     "data": {
      "text/plain": [
       "<matplotlib.axes._subplots.AxesSubplot at 0x2050d4f65c8>"
      ]
     },
     "execution_count": 32,
     "metadata": {},
     "output_type": "execute_result"
    },
    {
     "data": {
      "image/png": "[encoded data removed]",
      "text/plain": [
       "<Figure size 432x288 with 1 Axes>"
      ]
     },
     "metadata": {
      "needs_background": "light"
     },
     "output_type": "display_data"
    }
   ],
   "source": [
    "#Analysis to see the distribution of Dew_point_tem variable\n",
    "sns.distplot(bike_data.Dew_point_tem)"
   ]
  },
  {
   "cell_type": "code",
   "execution_count": 35,
   "metadata": {},
   "outputs": [
    {
     "data": {
      "text/plain": [
       "<matplotlib.axes._subplots.AxesSubplot at 0x2050d766d48>"
      ]
     },
     "execution_count": 35,
     "metadata": {},
     "output_type": "execute_result"
    },
    {
     "data": {
      "image/png": "[encoded data removed]",
      "text/plain": [
       "<Figure size 432x288 with 1 Axes>"
      ]
     },
     "metadata": {
      "needs_background": "light"
     },
     "output_type": "display_data"
    }
   ],
   "source": [
    "##Analysis to see the distribution of Hour variable\n",
    "sns.distplot(bike_data.Hour)"
   ]
  },
  {
   "cell_type": "code",
   "execution_count": 36,
   "metadata": {},
   "outputs": [
    {
     "data": {
      "text/plain": [
       "Index(['Date', 'Rent_bike_c', 'Hour', 'Temperature', 'Humidity', 'WindSpeed',\n",
       "       'Visibility', 'Dew_point_tem', 'Solar_Rad', 'Rainfall', 'Snowfall',\n",
       "       'Seasons', 'Holiday', 'Func_Day', 'Year', 'Month', 'Weekdays'],\n",
       "      dtype='object')"
      ]
     },
     "execution_count": 36,
     "metadata": {},
     "output_type": "execute_result"
    }
   ],
   "source": [
    "bike_data.columns"
   ]
  },
  {
   "cell_type": "code",
   "execution_count": 37,
   "metadata": {},
   "outputs": [
    {
     "data": {
      "text/plain": [
       "<matplotlib.axes._subplots.AxesSubplot at 0x2050e7d3188>"
      ]
     },
     "execution_count": 37,
     "metadata": {},
     "output_type": "execute_result"
    },
    {
     "data": {
      "image/png": "[encoded data removed]",
      "text/plain": [
       "<Figure size 432x288 with 1 Axes>"
      ]
     },
     "metadata": {
      "needs_background": "light"
     },
     "output_type": "display_data"
    }
   ],
   "source": [
    "#Checking for outliers using boxplot for each months\n",
    "sns.boxplot(data=bike_data,y=\"Rent_bike_c\",x=\"Month\")"
   ]
  },
  {
   "cell_type": "code",
   "execution_count": 38,
   "metadata": {},
   "outputs": [],
   "source": [
    "Hour_week_agg = pd.DataFrame(bike_data.groupby([\"Hour\",\"Weekdays\"],sort=True)[\"Rent_bike_c\"].sum()).reset_index()"
   ]
  },
  {
   "cell_type": "code",
   "execution_count": 39,
   "metadata": {},
   "outputs": [
    {
     "data": {
      "text/html": [
       "<div>\n",
       "<style scoped>\n",
       "    .dataframe tbody tr th:only-of-type {\n",
       "        vertical-align: middle;\n",
       "    }\n",
       "\n",
       "    .dataframe tbody tr th {\n",
       "        vertical-align: top;\n",
       "    }\n",
       "\n",
       "    .dataframe thead th {\n",
       "        text-align: right;\n",
       "    }\n",
       "</style>\n",
       "<table border=\"1\" class=\"dataframe\">\n",
       "  <thead>\n",
       "    <tr style=\"text-align: right;\">\n",
       "      <th></th>\n",
       "      <th>Hour</th>\n",
       "      <th>Weekdays</th>\n",
       "      <th>Rent_bike_c</th>\n",
       "    </tr>\n",
       "  </thead>\n",
       "  <tbody>\n",
       "    <tr>\n",
       "      <th>0</th>\n",
       "      <td>0</td>\n",
       "      <td>Monday</td>\n",
       "      <td>22267</td>\n",
       "    </tr>\n",
       "    <tr>\n",
       "      <th>1</th>\n",
       "      <td>0</td>\n",
       "      <td>Tuesday</td>\n",
       "      <td>28834</td>\n",
       "    </tr>\n",
       "    <tr>\n",
       "      <th>2</th>\n",
       "      <td>0</td>\n",
       "      <td>Wednesday</td>\n",
       "      <td>25117</td>\n",
       "    </tr>\n",
       "    <tr>\n",
       "      <th>3</th>\n",
       "      <td>0</td>\n",
       "      <td>Thursday</td>\n",
       "      <td>29942</td>\n",
       "    </tr>\n",
       "    <tr>\n",
       "      <th>4</th>\n",
       "      <td>0</td>\n",
       "      <td>Friday</td>\n",
       "      <td>28395</td>\n",
       "    </tr>\n",
       "  </tbody>\n",
       "</table>\n",
       "</div>"
      ],
      "text/plain": [
       "   Hour   Weekdays  Rent_bike_c\n",
       "0     0     Monday        22267\n",
       "1     0    Tuesday        28834\n",
       "2     0  Wednesday        25117\n",
       "3     0   Thursday        29942\n",
       "4     0     Friday        28395"
      ]
     },
     "execution_count": 39,
     "metadata": {},
     "output_type": "execute_result"
    }
   ],
   "source": [
    "Hour_week_agg.head()"
   ]
  },
  {
   "cell_type": "code",
   "execution_count": 40,
   "metadata": {},
   "outputs": [
    {
     "data": {
      "text/plain": [
       "<matplotlib.axes._subplots.AxesSubplot at 0x2050e950948>"
      ]
     },
     "execution_count": 40,
     "metadata": {},
     "output_type": "execute_result"
    },
    {
     "data": {
      "image/png": "[encoded data removed]",
      "text/plain": [
       "<Figure size 792x576 with 1 Axes>"
      ]
     },
     "metadata": {
      "needs_background": "light"
     },
     "output_type": "display_data"
    }
   ],
   "source": [
    "#Analysing the trend of weekdays and Rented bike count\n",
    "plt.figure(figsize=(11, 8))\n",
    "sns.lineplot(x=Hour_week_agg[\"Hour\"],y=Hour_week_agg['Rent_bike_c'],hue=Hour_week_agg['Weekdays'],linewidth = 5)"
   ]
  },
  {
   "cell_type": "code",
   "execution_count": 41,
   "metadata": {},
   "outputs": [],
   "source": [
    "Hour_Month_agg = pd.DataFrame(bike_data.groupby([\"Hour\",\"Month\"],sort=True)[\"Rent_bike_c\"].sum()).reset_index()"
   ]
  },
  {
   "cell_type": "code",
   "execution_count": 42,
   "metadata": {},
   "outputs": [
    {
     "data": {
      "text/html": [
       "<div>\n",
       "<style scoped>\n",
       "    .dataframe tbody tr th:only-of-type {\n",
       "        vertical-align: middle;\n",
       "    }\n",
       "\n",
       "    .dataframe tbody tr th {\n",
       "        vertical-align: top;\n",
       "    }\n",
       "\n",
       "    .dataframe thead th {\n",
       "        text-align: right;\n",
       "    }\n",
       "</style>\n",
       "<table border=\"1\" class=\"dataframe\">\n",
       "  <thead>\n",
       "    <tr style=\"text-align: right;\">\n",
       "      <th></th>\n",
       "      <th>Hour</th>\n",
       "      <th>Month</th>\n",
       "      <th>Rent_bike_c</th>\n",
       "    </tr>\n",
       "  </thead>\n",
       "  <tbody>\n",
       "    <tr>\n",
       "      <th>0</th>\n",
       "      <td>0</td>\n",
       "      <td>Apr</td>\n",
       "      <td>15774</td>\n",
       "    </tr>\n",
       "    <tr>\n",
       "      <th>1</th>\n",
       "      <td>0</td>\n",
       "      <td>Aug</td>\n",
       "      <td>21835</td>\n",
       "    </tr>\n",
       "    <tr>\n",
       "      <th>2</th>\n",
       "      <td>0</td>\n",
       "      <td>Dec</td>\n",
       "      <td>9879</td>\n",
       "    </tr>\n",
       "    <tr>\n",
       "      <th>3</th>\n",
       "      <td>0</td>\n",
       "      <td>Feb</td>\n",
       "      <td>8392</td>\n",
       "    </tr>\n",
       "    <tr>\n",
       "      <th>4</th>\n",
       "      <td>0</td>\n",
       "      <td>Jan</td>\n",
       "      <td>9759</td>\n",
       "    </tr>\n",
       "  </tbody>\n",
       "</table>\n",
       "</div>"
      ],
      "text/plain": [
       "   Hour Month  Rent_bike_c\n",
       "0     0   Apr        15774\n",
       "1     0   Aug        21835\n",
       "2     0   Dec         9879\n",
       "3     0   Feb         8392\n",
       "4     0   Jan         9759"
      ]
     },
     "execution_count": 42,
     "metadata": {},
     "output_type": "execute_result"
    }
   ],
   "source": [
    "Hour_Month_agg.head()"
   ]
  },
  {
   "cell_type": "code",
   "execution_count": 43,
   "metadata": {},
   "outputs": [
    {
     "data": {
      "text/plain": [
       "<matplotlib.axes._subplots.AxesSubplot at 0x2050ebf7408>"
      ]
     },
     "execution_count": 43,
     "metadata": {},
     "output_type": "execute_result"
    },
    {
     "data": {
      "image/png": "[encoded data removed]",
      "text/plain": [
       "<Figure size 792x576 with 1 Axes>"
      ]
     },
     "metadata": {
      "needs_background": "light"
     },
     "output_type": "display_data"
    }
   ],
   "source": [
    "#Analysing the trend of Month and Rented bike count\n",
    "plt.figure(figsize=(11, 8))\n",
    "sns.lineplot(x=Hour_Month_agg[\"Hour\"],y=Hour_Month_agg['Rent_bike_c'],hue=Hour_Month_agg['Month'],linewidth = 5)"
   ]
  },
  {
   "cell_type": "code",
   "execution_count": 44,
   "metadata": {},
   "outputs": [],
   "source": [
    "Hour_Season_agg = pd.DataFrame(bike_data.groupby([\"Hour\",\"Seasons\"],sort=True)[\"Rent_bike_c\"].sum()).reset_index()"
   ]
  },
  {
   "cell_type": "code",
   "execution_count": 45,
   "metadata": {},
   "outputs": [
    {
     "data": {
      "text/html": [
       "<div>\n",
       "<style scoped>\n",
       "    .dataframe tbody tr th:only-of-type {\n",
       "        vertical-align: middle;\n",
       "    }\n",
       "\n",
       "    .dataframe tbody tr th {\n",
       "        vertical-align: top;\n",
       "    }\n",
       "\n",
       "    .dataframe thead th {\n",
       "        text-align: right;\n",
       "    }\n",
       "</style>\n",
       "<table border=\"1\" class=\"dataframe\">\n",
       "  <thead>\n",
       "    <tr style=\"text-align: right;\">\n",
       "      <th></th>\n",
       "      <th>Hour</th>\n",
       "      <th>Seasons</th>\n",
       "      <th>Rent_bike_c</th>\n",
       "    </tr>\n",
       "  </thead>\n",
       "  <tbody>\n",
       "    <tr>\n",
       "      <th>0</th>\n",
       "      <td>0</td>\n",
       "      <td>Autumn</td>\n",
       "      <td>56755</td>\n",
       "    </tr>\n",
       "    <tr>\n",
       "      <th>1</th>\n",
       "      <td>0</td>\n",
       "      <td>Spring</td>\n",
       "      <td>43298</td>\n",
       "    </tr>\n",
       "    <tr>\n",
       "      <th>2</th>\n",
       "      <td>0</td>\n",
       "      <td>Summer</td>\n",
       "      <td>82714</td>\n",
       "    </tr>\n",
       "    <tr>\n",
       "      <th>3</th>\n",
       "      <td>0</td>\n",
       "      <td>Winter</td>\n",
       "      <td>14866</td>\n",
       "    </tr>\n",
       "    <tr>\n",
       "      <th>4</th>\n",
       "      <td>1</td>\n",
       "      <td>Autumn</td>\n",
       "      <td>44200</td>\n",
       "    </tr>\n",
       "  </tbody>\n",
       "</table>\n",
       "</div>"
      ],
      "text/plain": [
       "   Hour Seasons  Rent_bike_c\n",
       "0     0  Autumn        56755\n",
       "1     0  Spring        43298\n",
       "2     0  Summer        82714\n",
       "3     0  Winter        14866\n",
       "4     1  Autumn        44200"
      ]
     },
     "execution_count": 45,
     "metadata": {},
     "output_type": "execute_result"
    }
   ],
   "source": [
    "Hour_Season_agg.head()"
   ]
  },
  {
   "cell_type": "code",
   "execution_count": 46,
   "metadata": {},
   "outputs": [
    {
     "data": {
      "text/plain": [
       "<matplotlib.axes._subplots.AxesSubplot at 0x2050eac8d08>"
      ]
     },
     "execution_count": 46,
     "metadata": {},
     "output_type": "execute_result"
    },
    {
     "data": {
      "image/png": "[encoded data removed]",
      "text/plain": [
       "<Figure size 792x576 with 1 Axes>"
      ]
     },
     "metadata": {
      "needs_background": "light"
     },
     "output_type": "display_data"
    }
   ],
   "source": [
    "#Analysing the trend of Seasons and Rented bike count\n",
    "plt.figure(figsize=(11, 8))\n",
    "sns.lineplot(x=Hour_Season_agg[\"Hour\"],y=Hour_Season_agg['Rent_bike_c'],hue=Hour_Season_agg['Seasons'],linewidth = 5)"
   ]
  },
  {
   "cell_type": "code",
   "execution_count": 47,
   "metadata": {},
   "outputs": [
    {
     "data": {
      "text/html": [
       "<div>\n",
       "<style scoped>\n",
       "    .dataframe tbody tr th:only-of-type {\n",
       "        vertical-align: middle;\n",
       "    }\n",
       "\n",
       "    .dataframe tbody tr th {\n",
       "        vertical-align: top;\n",
       "    }\n",
       "\n",
       "    .dataframe thead th {\n",
       "        text-align: right;\n",
       "    }\n",
       "</style>\n",
       "<table border=\"1\" class=\"dataframe\">\n",
       "  <thead>\n",
       "    <tr style=\"text-align: right;\">\n",
       "      <th></th>\n",
       "      <th>Date</th>\n",
       "      <th>Rent_bike_c</th>\n",
       "      <th>Hour</th>\n",
       "      <th>Temperature</th>\n",
       "      <th>Humidity</th>\n",
       "      <th>WindSpeed</th>\n",
       "      <th>Visibility</th>\n",
       "      <th>Dew_point_tem</th>\n",
       "      <th>Solar_Rad</th>\n",
       "      <th>Rainfall</th>\n",
       "      <th>Snowfall</th>\n",
       "      <th>Seasons</th>\n",
       "      <th>Holiday</th>\n",
       "      <th>Func_Day</th>\n",
       "      <th>Year</th>\n",
       "      <th>Month</th>\n",
       "      <th>Weekdays</th>\n",
       "    </tr>\n",
       "  </thead>\n",
       "  <tbody>\n",
       "    <tr>\n",
       "      <th>0</th>\n",
       "      <td>2017-01-12</td>\n",
       "      <td>254</td>\n",
       "      <td>0</td>\n",
       "      <td>-5.2</td>\n",
       "      <td>37</td>\n",
       "      <td>2.2</td>\n",
       "      <td>2000</td>\n",
       "      <td>-17.6</td>\n",
       "      <td>0.0</td>\n",
       "      <td>0.0</td>\n",
       "      <td>0.0</td>\n",
       "      <td>Winter</td>\n",
       "      <td>No Holiday</td>\n",
       "      <td>Yes</td>\n",
       "      <td>2017</td>\n",
       "      <td>Jan</td>\n",
       "      <td>Thursday</td>\n",
       "    </tr>\n",
       "    <tr>\n",
       "      <th>1</th>\n",
       "      <td>2017-01-12</td>\n",
       "      <td>204</td>\n",
       "      <td>1</td>\n",
       "      <td>-5.5</td>\n",
       "      <td>38</td>\n",
       "      <td>0.8</td>\n",
       "      <td>2000</td>\n",
       "      <td>-17.6</td>\n",
       "      <td>0.0</td>\n",
       "      <td>0.0</td>\n",
       "      <td>0.0</td>\n",
       "      <td>Winter</td>\n",
       "      <td>No Holiday</td>\n",
       "      <td>Yes</td>\n",
       "      <td>2017</td>\n",
       "      <td>Jan</td>\n",
       "      <td>Thursday</td>\n",
       "    </tr>\n",
       "    <tr>\n",
       "      <th>2</th>\n",
       "      <td>2017-01-12</td>\n",
       "      <td>173</td>\n",
       "      <td>2</td>\n",
       "      <td>-6.0</td>\n",
       "      <td>39</td>\n",
       "      <td>1.0</td>\n",
       "      <td>2000</td>\n",
       "      <td>-17.7</td>\n",
       "      <td>0.0</td>\n",
       "      <td>0.0</td>\n",
       "      <td>0.0</td>\n",
       "      <td>Winter</td>\n",
       "      <td>No Holiday</td>\n",
       "      <td>Yes</td>\n",
       "      <td>2017</td>\n",
       "      <td>Jan</td>\n",
       "      <td>Thursday</td>\n",
       "    </tr>\n",
       "    <tr>\n",
       "      <th>3</th>\n",
       "      <td>2017-01-12</td>\n",
       "      <td>107</td>\n",
       "      <td>3</td>\n",
       "      <td>-6.2</td>\n",
       "      <td>40</td>\n",
       "      <td>0.9</td>\n",
       "      <td>2000</td>\n",
       "      <td>-17.6</td>\n",
       "      <td>0.0</td>\n",
       "      <td>0.0</td>\n",
       "      <td>0.0</td>\n",
       "      <td>Winter</td>\n",
       "      <td>No Holiday</td>\n",
       "      <td>Yes</td>\n",
       "      <td>2017</td>\n",
       "      <td>Jan</td>\n",
       "      <td>Thursday</td>\n",
       "    </tr>\n",
       "    <tr>\n",
       "      <th>4</th>\n",
       "      <td>2017-01-12</td>\n",
       "      <td>78</td>\n",
       "      <td>4</td>\n",
       "      <td>-6.0</td>\n",
       "      <td>36</td>\n",
       "      <td>2.3</td>\n",
       "      <td>2000</td>\n",
       "      <td>-18.6</td>\n",
       "      <td>0.0</td>\n",
       "      <td>0.0</td>\n",
       "      <td>0.0</td>\n",
       "      <td>Winter</td>\n",
       "      <td>No Holiday</td>\n",
       "      <td>Yes</td>\n",
       "      <td>2017</td>\n",
       "      <td>Jan</td>\n",
       "      <td>Thursday</td>\n",
       "    </tr>\n",
       "  </tbody>\n",
       "</table>\n",
       "</div>"
      ],
      "text/plain": [
       "        Date  Rent_bike_c  Hour  Temperature  Humidity  WindSpeed  Visibility  \\\n",
       "0 2017-01-12          254     0         -5.2        37        2.2        2000   \n",
       "1 2017-01-12          204     1         -5.5        38        0.8        2000   \n",
       "2 2017-01-12          173     2         -6.0        39        1.0        2000   \n",
       "3 2017-01-12          107     3         -6.2        40        0.9        2000   \n",
       "4 2017-01-12           78     4         -6.0        36        2.3        2000   \n",
       "\n",
       "   Dew_point_tem  Solar_Rad  Rainfall  Snowfall Seasons     Holiday Func_Day  \\\n",
       "0          -17.6        0.0       0.0       0.0  Winter  No Holiday      Yes   \n",
       "1          -17.6        0.0       0.0       0.0  Winter  No Holiday      Yes   \n",
       "2          -17.7        0.0       0.0       0.0  Winter  No Holiday      Yes   \n",
       "3          -17.6        0.0       0.0       0.0  Winter  No Holiday      Yes   \n",
       "4          -18.6        0.0       0.0       0.0  Winter  No Holiday      Yes   \n",
       "\n",
       "   Year Month  Weekdays  \n",
       "0  2017   Jan  Thursday  \n",
       "1  2017   Jan  Thursday  \n",
       "2  2017   Jan  Thursday  \n",
       "3  2017   Jan  Thursday  \n",
       "4  2017   Jan  Thursday  "
      ]
     },
     "execution_count": 47,
     "metadata": {},
     "output_type": "execute_result"
    }
   ],
   "source": [
    "bike_data.head()"
   ]
  },
  {
   "cell_type": "code",
   "execution_count": 48,
   "metadata": {},
   "outputs": [
    {
     "name": "stdout",
     "output_type": "stream",
     "text": [
      "<class 'pandas.core.frame.DataFrame'>\n",
      "RangeIndex: 8760 entries, 0 to 8759\n",
      "Data columns (total 17 columns):\n",
      " #   Column         Non-Null Count  Dtype         \n",
      "---  ------         --------------  -----         \n",
      " 0   Date           8760 non-null   datetime64[ns]\n",
      " 1   Rent_bike_c    8760 non-null   int64         \n",
      " 2   Hour           8760 non-null   int64         \n",
      " 3   Temperature    8760 non-null   float64       \n",
      " 4   Humidity       8760 non-null   int64         \n",
      " 5   WindSpeed      8760 non-null   float64       \n",
      " 6   Visibility     8760 non-null   int64         \n",
      " 7   Dew_point_tem  8760 non-null   float64       \n",
      " 8   Solar_Rad      8760 non-null   float64       \n",
      " 9   Rainfall       8760 non-null   float64       \n",
      " 10  Snowfall       8760 non-null   float64       \n",
      " 11  Seasons        8760 non-null   object        \n",
      " 12  Holiday        8760 non-null   object        \n",
      " 13  Func_Day       8760 non-null   object        \n",
      " 14  Year           8760 non-null   int64         \n",
      " 15  Month          8760 non-null   object        \n",
      " 16  Weekdays       8760 non-null   category      \n",
      "dtypes: category(1), datetime64[ns](1), float64(6), int64(5), object(4)\n",
      "memory usage: 1.1+ MB\n"
     ]
    }
   ],
   "source": [
    "bike_data.info()"
   ]
  },
  {
   "cell_type": "code",
   "execution_count": 49,
   "metadata": {},
   "outputs": [],
   "source": [
    "bike_data.set_index(['Date'],inplace=True)"
   ]
  },
  {
   "cell_type": "code",
   "execution_count": 50,
   "metadata": {},
   "outputs": [
    {
     "data": {
      "text/html": [
       "<div>\n",
       "<style scoped>\n",
       "    .dataframe tbody tr th:only-of-type {\n",
       "        vertical-align: middle;\n",
       "    }\n",
       "\n",
       "    .dataframe tbody tr th {\n",
       "        vertical-align: top;\n",
       "    }\n",
       "\n",
       "    .dataframe thead th {\n",
       "        text-align: right;\n",
       "    }\n",
       "</style>\n",
       "<table border=\"1\" class=\"dataframe\">\n",
       "  <thead>\n",
       "    <tr style=\"text-align: right;\">\n",
       "      <th></th>\n",
       "      <th>Rent_bike_c</th>\n",
       "      <th>Hour</th>\n",
       "      <th>Temperature</th>\n",
       "      <th>Humidity</th>\n",
       "      <th>WindSpeed</th>\n",
       "      <th>Visibility</th>\n",
       "      <th>Dew_point_tem</th>\n",
       "      <th>Solar_Rad</th>\n",
       "      <th>Rainfall</th>\n",
       "      <th>Snowfall</th>\n",
       "      <th>Seasons</th>\n",
       "      <th>Holiday</th>\n",
       "      <th>Func_Day</th>\n",
       "      <th>Year</th>\n",
       "      <th>Month</th>\n",
       "      <th>Weekdays</th>\n",
       "    </tr>\n",
       "    <tr>\n",
       "      <th>Date</th>\n",
       "      <th></th>\n",
       "      <th></th>\n",
       "      <th></th>\n",
       "      <th></th>\n",
       "      <th></th>\n",
       "      <th></th>\n",
       "      <th></th>\n",
       "      <th></th>\n",
       "      <th></th>\n",
       "      <th></th>\n",
       "      <th></th>\n",
       "      <th></th>\n",
       "      <th></th>\n",
       "      <th></th>\n",
       "      <th></th>\n",
       "      <th></th>\n",
       "    </tr>\n",
       "  </thead>\n",
       "  <tbody>\n",
       "    <tr>\n",
       "      <th>2017-01-12</th>\n",
       "      <td>254</td>\n",
       "      <td>0</td>\n",
       "      <td>-5.2</td>\n",
       "      <td>37</td>\n",
       "      <td>2.2</td>\n",
       "      <td>2000</td>\n",
       "      <td>-17.6</td>\n",
       "      <td>0.0</td>\n",
       "      <td>0.0</td>\n",
       "      <td>0.0</td>\n",
       "      <td>Winter</td>\n",
       "      <td>No Holiday</td>\n",
       "      <td>Yes</td>\n",
       "      <td>2017</td>\n",
       "      <td>Jan</td>\n",
       "      <td>Thursday</td>\n",
       "    </tr>\n",
       "    <tr>\n",
       "      <th>2017-01-12</th>\n",
       "      <td>204</td>\n",
       "      <td>1</td>\n",
       "      <td>-5.5</td>\n",
       "      <td>38</td>\n",
       "      <td>0.8</td>\n",
       "      <td>2000</td>\n",
       "      <td>-17.6</td>\n",
       "      <td>0.0</td>\n",
       "      <td>0.0</td>\n",
       "      <td>0.0</td>\n",
       "      <td>Winter</td>\n",
       "      <td>No Holiday</td>\n",
       "      <td>Yes</td>\n",
       "      <td>2017</td>\n",
       "      <td>Jan</td>\n",
       "      <td>Thursday</td>\n",
       "    </tr>\n",
       "    <tr>\n",
       "      <th>2017-01-12</th>\n",
       "      <td>173</td>\n",
       "      <td>2</td>\n",
       "      <td>-6.0</td>\n",
       "      <td>39</td>\n",
       "      <td>1.0</td>\n",
       "      <td>2000</td>\n",
       "      <td>-17.7</td>\n",
       "      <td>0.0</td>\n",
       "      <td>0.0</td>\n",
       "      <td>0.0</td>\n",
       "      <td>Winter</td>\n",
       "      <td>No Holiday</td>\n",
       "      <td>Yes</td>\n",
       "      <td>2017</td>\n",
       "      <td>Jan</td>\n",
       "      <td>Thursday</td>\n",
       "    </tr>\n",
       "  </tbody>\n",
       "</table>\n",
       "</div>"
      ],
      "text/plain": [
       "            Rent_bike_c  Hour  Temperature  Humidity  WindSpeed  Visibility  \\\n",
       "Date                                                                          \n",
       "2017-01-12          254     0         -5.2        37        2.2        2000   \n",
       "2017-01-12          204     1         -5.5        38        0.8        2000   \n",
       "2017-01-12          173     2         -6.0        39        1.0        2000   \n",
       "\n",
       "            Dew_point_tem  Solar_Rad  Rainfall  Snowfall Seasons     Holiday  \\\n",
       "Date                                                                           \n",
       "2017-01-12          -17.6        0.0       0.0       0.0  Winter  No Holiday   \n",
       "2017-01-12          -17.6        0.0       0.0       0.0  Winter  No Holiday   \n",
       "2017-01-12          -17.7        0.0       0.0       0.0  Winter  No Holiday   \n",
       "\n",
       "           Func_Day  Year Month  Weekdays  \n",
       "Date                                       \n",
       "2017-01-12      Yes  2017   Jan  Thursday  \n",
       "2017-01-12      Yes  2017   Jan  Thursday  \n",
       "2017-01-12      Yes  2017   Jan  Thursday  "
      ]
     },
     "execution_count": 50,
     "metadata": {},
     "output_type": "execute_result"
    }
   ],
   "source": [
    "bike_data.head(3)"
   ]
  },
  {
   "cell_type": "raw",
   "metadata": {},
   "source": [
    "Q1 = bike_data.quantile(0.25)\n",
    "Q3 = bike_data.quantile(0.95)\n",
    "IQR = Q3 - Q1"
   ]
  },
  {
   "cell_type": "raw",
   "metadata": {},
   "source": [
    "(bike_data > (Q3)).sum()"
   ]
  },
  {
   "cell_type": "raw",
   "metadata": {},
   "source": [
    "for x in list(final_df.select_dtypes(exclude=['object']).columns):\n",
    "    q99 = final_df[x].quantile(0.99)\n",
    "    q25 = final_df[x].quantile(0.25)\n",
    "    #intr_qr = q99-q25\n",
    " \n",
    "    #max = q99+(1.5*intr_qr)\n",
    "    #min = q25-(1.5*intr_qr)\n",
    "\n",
    "    final_df.loc[final_df[x] > q99,x] = q99"
   ]
  },
  {
   "cell_type": "raw",
   "metadata": {},
   "source": [
    "#Converting categorical variables into numerical variable\n",
    "from sklearn.preprocessing import LabelEncoder\n",
    "\n",
    "label_enc = LabelEncoder()\n",
    "cat_columns = ['Seasons','Holiday','Func_Day','Year','Month','Weekdays']\n",
    "\n",
    "for i in cat_columns:\n",
    "    X[i] = label_enc.fit_transform(X[i])   "
   ]
  },
  {
   "cell_type": "code",
   "execution_count": 52,
   "metadata": {},
   "outputs": [],
   "source": [
    "#Creating dummy variables for categorical variables.\n",
    "cat_cols = ['Seasons','Holiday','Func_Day','Month','Weekdays','Year']\n",
    "\n",
    "bike_data = pd.get_dummies(bike_data,columns=cat_cols,drop_first=True,\n",
    "                          prefix=cat_cols)"
   ]
  },
  {
   "cell_type": "code",
   "execution_count": 53,
   "metadata": {},
   "outputs": [],
   "source": [
    "#Splitting data into training and testing\n",
    "from sklearn.model_selection import train_test_split"
   ]
  },
  {
   "cell_type": "code",
   "execution_count": 54,
   "metadata": {},
   "outputs": [],
   "source": [
    "train_data,test_data = train_test_split(bike_data,test_size=0.25,random_state=42)"
   ]
  },
  {
   "cell_type": "code",
   "execution_count": 55,
   "metadata": {},
   "outputs": [],
   "source": [
    "num_cols = ['Hour','Temperature','Humidity','WindSpeed','Visibility','Dew_point_tem',\n",
    "            'Solar_Rad','Rainfall','Snowfall','Rent_bike_c']"
   ]
  },
  {
   "cell_type": "raw",
   "metadata": {},
   "source": [
    "def normalize(df):\n",
    "    result = df.copy()\n",
    "    for feature_name in num_cols:\n",
    "        max_value = df[feature_name].max()\n",
    "        min_value = df[feature_name].min()\n",
    "        result[feature_name] = (df[feature_name] - min_value) / (max_value - min_value)\n",
    "    return result"
   ]
  },
  {
   "cell_type": "raw",
   "metadata": {},
   "source": [
    "train_data =normalize(train_data)"
   ]
  },
  {
   "cell_type": "code",
   "execution_count": 56,
   "metadata": {},
   "outputs": [
    {
     "name": "stderr",
     "output_type": "stream",
     "text": [
      "C:\\ProgramData\\Anaconda3\\lib\\site-packages\\ipykernel_launcher.py:3: SettingWithCopyWarning: \n",
      "A value is trying to be set on a copy of a slice from a DataFrame.\n",
      "Try using .loc[row_indexer,col_indexer] = value instead\n",
      "\n",
      "See the caveats in the documentation: https://pandas.pydata.org/pandas-docs/stable/user_guide/indexing.html#returning-a-view-versus-a-copy\n",
      "  This is separate from the ipykernel package so we can avoid doing imports until\n",
      "C:\\ProgramData\\Anaconda3\\lib\\site-packages\\pandas\\core\\indexing.py:965: SettingWithCopyWarning: \n",
      "A value is trying to be set on a copy of a slice from a DataFrame.\n",
      "Try using .loc[row_indexer,col_indexer] = value instead\n",
      "\n",
      "See the caveats in the documentation: https://pandas.pydata.org/pandas-docs/stable/user_guide/indexing.html#returning-a-view-versus-a-copy\n",
      "  self.obj[item] = s\n"
     ]
    }
   ],
   "source": [
    "from sklearn.preprocessing import StandardScaler,Normalizer,MinMaxScaler,RobustScaler\n",
    "scaling = Normalizer()\n",
    "train_data[num_cols] = scaling.fit_transform(train_data[num_cols])"
   ]
  },
  {
   "cell_type": "raw",
   "metadata": {},
   "source": [
    "w = np.sqrt(sum(x**2))\n",
    "x_norm2 = x/w\n",
    "print x_norm2"
   ]
  },
  {
   "cell_type": "raw",
   "metadata": {},
   "source": [
    "w = np.sqrt(sum(y_test**2))\n",
    "x_norm2 = y_test/w\n",
    "print(x_norm2)"
   ]
  },
  {
   "cell_type": "code",
   "execution_count": 57,
   "metadata": {},
   "outputs": [
    {
     "data": {
      "text/html": [
       "<div>\n",
       "<style scoped>\n",
       "    .dataframe tbody tr th:only-of-type {\n",
       "        vertical-align: middle;\n",
       "    }\n",
       "\n",
       "    .dataframe tbody tr th {\n",
       "        vertical-align: top;\n",
       "    }\n",
       "\n",
       "    .dataframe thead th {\n",
       "        text-align: right;\n",
       "    }\n",
       "</style>\n",
       "<table border=\"1\" class=\"dataframe\">\n",
       "  <thead>\n",
       "    <tr style=\"text-align: right;\">\n",
       "      <th></th>\n",
       "      <th>Rent_bike_c</th>\n",
       "      <th>Hour</th>\n",
       "      <th>Temperature</th>\n",
       "      <th>Humidity</th>\n",
       "      <th>WindSpeed</th>\n",
       "      <th>Visibility</th>\n",
       "      <th>Dew_point_tem</th>\n",
       "      <th>Solar_Rad</th>\n",
       "      <th>Rainfall</th>\n",
       "      <th>Snowfall</th>\n",
       "      <th>...</th>\n",
       "      <th>Month_Nov</th>\n",
       "      <th>Month_Oct</th>\n",
       "      <th>Month_Sep</th>\n",
       "      <th>Weekdays_Tuesday</th>\n",
       "      <th>Weekdays_Wednesday</th>\n",
       "      <th>Weekdays_Thursday</th>\n",
       "      <th>Weekdays_Friday</th>\n",
       "      <th>Weekdays_Saturday</th>\n",
       "      <th>Weekdays_Sunday</th>\n",
       "      <th>Year_2018</th>\n",
       "    </tr>\n",
       "    <tr>\n",
       "      <th>Date</th>\n",
       "      <th></th>\n",
       "      <th></th>\n",
       "      <th></th>\n",
       "      <th></th>\n",
       "      <th></th>\n",
       "      <th></th>\n",
       "      <th></th>\n",
       "      <th></th>\n",
       "      <th></th>\n",
       "      <th></th>\n",
       "      <th></th>\n",
       "      <th></th>\n",
       "      <th></th>\n",
       "      <th></th>\n",
       "      <th></th>\n",
       "      <th></th>\n",
       "      <th></th>\n",
       "      <th></th>\n",
       "      <th></th>\n",
       "      <th></th>\n",
       "      <th></th>\n",
       "    </tr>\n",
       "  </thead>\n",
       "  <tbody>\n",
       "    <tr>\n",
       "      <th>2018-03-03</th>\n",
       "      <td>0.560701</td>\n",
       "      <td>0.006794</td>\n",
       "      <td>0.007247</td>\n",
       "      <td>0.006341</td>\n",
       "      <td>0.000996</td>\n",
       "      <td>0.827917</td>\n",
       "      <td>-0.005208</td>\n",
       "      <td>0.001055</td>\n",
       "      <td>0.0</td>\n",
       "      <td>0.0</td>\n",
       "      <td>...</td>\n",
       "      <td>0</td>\n",
       "      <td>0</td>\n",
       "      <td>0</td>\n",
       "      <td>0</td>\n",
       "      <td>0</td>\n",
       "      <td>0</td>\n",
       "      <td>0</td>\n",
       "      <td>1</td>\n",
       "      <td>0</td>\n",
       "      <td>1</td>\n",
       "    </tr>\n",
       "    <tr>\n",
       "      <th>2018-03-01</th>\n",
       "      <td>0.068625</td>\n",
       "      <td>0.003005</td>\n",
       "      <td>-0.003356</td>\n",
       "      <td>0.024044</td>\n",
       "      <td>0.001202</td>\n",
       "      <td>0.997310</td>\n",
       "      <td>-0.007964</td>\n",
       "      <td>0.000000</td>\n",
       "      <td>0.0</td>\n",
       "      <td>0.0</td>\n",
       "      <td>...</td>\n",
       "      <td>0</td>\n",
       "      <td>0</td>\n",
       "      <td>0</td>\n",
       "      <td>0</td>\n",
       "      <td>0</td>\n",
       "      <td>1</td>\n",
       "      <td>0</td>\n",
       "      <td>0</td>\n",
       "      <td>0</td>\n",
       "      <td>1</td>\n",
       "    </tr>\n",
       "    <tr>\n",
       "      <th>2018-10-20</th>\n",
       "      <td>0.407232</td>\n",
       "      <td>0.000000</td>\n",
       "      <td>0.005165</td>\n",
       "      <td>0.032451</td>\n",
       "      <td>0.000548</td>\n",
       "      <td>0.912729</td>\n",
       "      <td>0.002834</td>\n",
       "      <td>0.000000</td>\n",
       "      <td>0.0</td>\n",
       "      <td>0.0</td>\n",
       "      <td>...</td>\n",
       "      <td>0</td>\n",
       "      <td>1</td>\n",
       "      <td>0</td>\n",
       "      <td>0</td>\n",
       "      <td>0</td>\n",
       "      <td>0</td>\n",
       "      <td>0</td>\n",
       "      <td>1</td>\n",
       "      <td>0</td>\n",
       "      <td>1</td>\n",
       "    </tr>\n",
       "  </tbody>\n",
       "</table>\n",
       "<p>3 rows × 33 columns</p>\n",
       "</div>"
      ],
      "text/plain": [
       "            Rent_bike_c      Hour  Temperature  Humidity  WindSpeed  \\\n",
       "Date                                                                  \n",
       "2018-03-03     0.560701  0.006794     0.007247  0.006341   0.000996   \n",
       "2018-03-01     0.068625  0.003005    -0.003356  0.024044   0.001202   \n",
       "2018-10-20     0.407232  0.000000     0.005165  0.032451   0.000548   \n",
       "\n",
       "            Visibility  Dew_point_tem  Solar_Rad  Rainfall  Snowfall  ...  \\\n",
       "Date                                                                  ...   \n",
       "2018-03-03    0.827917      -0.005208   0.001055       0.0       0.0  ...   \n",
       "2018-03-01    0.997310      -0.007964   0.000000       0.0       0.0  ...   \n",
       "2018-10-20    0.912729       0.002834   0.000000       0.0       0.0  ...   \n",
       "\n",
       "            Month_Nov  Month_Oct  Month_Sep  Weekdays_Tuesday  \\\n",
       "Date                                                            \n",
       "2018-03-03          0          0          0                 0   \n",
       "2018-03-01          0          0          0                 0   \n",
       "2018-10-20          0          1          0                 0   \n",
       "\n",
       "            Weekdays_Wednesday  Weekdays_Thursday  Weekdays_Friday  \\\n",
       "Date                                                                 \n",
       "2018-03-03                   0                  0                0   \n",
       "2018-03-01                   0                  1                0   \n",
       "2018-10-20                   0                  0                0   \n",
       "\n",
       "            Weekdays_Saturday  Weekdays_Sunday  Year_2018  \n",
       "Date                                                       \n",
       "2018-03-03                  1                0          1  \n",
       "2018-03-01                  0                0          1  \n",
       "2018-10-20                  1                0          1  \n",
       "\n",
       "[3 rows x 33 columns]"
      ]
     },
     "execution_count": 57,
     "metadata": {},
     "output_type": "execute_result"
    }
   ],
   "source": [
    "train_data.head(3)"
   ]
  },
  {
   "cell_type": "code",
   "execution_count": 58,
   "metadata": {
    "scrolled": true
   },
   "outputs": [
    {
     "data": {
      "text/html": [
       "<div>\n",
       "<style scoped>\n",
       "    .dataframe tbody tr th:only-of-type {\n",
       "        vertical-align: middle;\n",
       "    }\n",
       "\n",
       "    .dataframe tbody tr th {\n",
       "        vertical-align: top;\n",
       "    }\n",
       "\n",
       "    .dataframe thead th {\n",
       "        text-align: right;\n",
       "    }\n",
       "</style>\n",
       "<table border=\"1\" class=\"dataframe\">\n",
       "  <thead>\n",
       "    <tr style=\"text-align: right;\">\n",
       "      <th></th>\n",
       "      <th>count</th>\n",
       "      <th>mean</th>\n",
       "      <th>std</th>\n",
       "      <th>min</th>\n",
       "      <th>25%</th>\n",
       "      <th>50%</th>\n",
       "      <th>75%</th>\n",
       "      <th>max</th>\n",
       "    </tr>\n",
       "  </thead>\n",
       "  <tbody>\n",
       "    <tr>\n",
       "      <th>Rent_bike_c</th>\n",
       "      <td>6570.0</td>\n",
       "      <td>0.399228</td>\n",
       "      <td>0.276188</td>\n",
       "      <td>0.000000</td>\n",
       "      <td>0.139701</td>\n",
       "      <td>0.378806</td>\n",
       "      <td>0.630352</td>\n",
       "      <td>0.993749</td>\n",
       "    </tr>\n",
       "    <tr>\n",
       "      <th>Hour</th>\n",
       "      <td>6570.0</td>\n",
       "      <td>0.008829</td>\n",
       "      <td>0.010392</td>\n",
       "      <td>0.000000</td>\n",
       "      <td>0.003769</td>\n",
       "      <td>0.006666</td>\n",
       "      <td>0.009906</td>\n",
       "      <td>0.181313</td>\n",
       "    </tr>\n",
       "    <tr>\n",
       "      <th>Temperature</th>\n",
       "      <td>6570.0</td>\n",
       "      <td>0.009526</td>\n",
       "      <td>0.011956</td>\n",
       "      <td>-0.036010</td>\n",
       "      <td>0.002978</td>\n",
       "      <td>0.008299</td>\n",
       "      <td>0.013215</td>\n",
       "      <td>0.143278</td>\n",
       "    </tr>\n",
       "    <tr>\n",
       "      <th>Humidity</th>\n",
       "      <td>6570.0</td>\n",
       "      <td>0.057933</td>\n",
       "      <td>0.081279</td>\n",
       "      <td>0.000000</td>\n",
       "      <td>0.020385</td>\n",
       "      <td>0.030788</td>\n",
       "      <td>0.054335</td>\n",
       "      <td>0.909913</td>\n",
       "    </tr>\n",
       "    <tr>\n",
       "      <th>WindSpeed</th>\n",
       "      <td>6570.0</td>\n",
       "      <td>0.001354</td>\n",
       "      <td>0.001579</td>\n",
       "      <td>0.000000</td>\n",
       "      <td>0.000579</td>\n",
       "      <td>0.000950</td>\n",
       "      <td>0.001549</td>\n",
       "      <td>0.028928</td>\n",
       "    </tr>\n",
       "    <tr>\n",
       "      <th>Visibility</th>\n",
       "      <td>6570.0</td>\n",
       "      <td>0.851181</td>\n",
       "      <td>0.171074</td>\n",
       "      <td>0.099624</td>\n",
       "      <td>0.767774</td>\n",
       "      <td>0.915878</td>\n",
       "      <td>0.985871</td>\n",
       "      <td>0.999868</td>\n",
       "    </tr>\n",
       "    <tr>\n",
       "      <th>Dew_point_tem</th>\n",
       "      <td>6570.0</td>\n",
       "      <td>0.004063</td>\n",
       "      <td>0.012667</td>\n",
       "      <td>-0.048572</td>\n",
       "      <td>-0.003488</td>\n",
       "      <td>0.003147</td>\n",
       "      <td>0.008635</td>\n",
       "      <td>0.139223</td>\n",
       "    </tr>\n",
       "    <tr>\n",
       "      <th>Solar_Rad</th>\n",
       "      <td>6570.0</td>\n",
       "      <td>0.000344</td>\n",
       "      <td>0.000542</td>\n",
       "      <td>0.000000</td>\n",
       "      <td>0.000000</td>\n",
       "      <td>0.000008</td>\n",
       "      <td>0.000550</td>\n",
       "      <td>0.004687</td>\n",
       "    </tr>\n",
       "    <tr>\n",
       "      <th>Rainfall</th>\n",
       "      <td>6570.0</td>\n",
       "      <td>0.000356</td>\n",
       "      <td>0.003568</td>\n",
       "      <td>0.000000</td>\n",
       "      <td>0.000000</td>\n",
       "      <td>0.000000</td>\n",
       "      <td>0.000000</td>\n",
       "      <td>0.125030</td>\n",
       "    </tr>\n",
       "    <tr>\n",
       "      <th>Snowfall</th>\n",
       "      <td>6570.0</td>\n",
       "      <td>0.000151</td>\n",
       "      <td>0.001534</td>\n",
       "      <td>0.000000</td>\n",
       "      <td>0.000000</td>\n",
       "      <td>0.000000</td>\n",
       "      <td>0.000000</td>\n",
       "      <td>0.066602</td>\n",
       "    </tr>\n",
       "    <tr>\n",
       "      <th>Seasons_Spring</th>\n",
       "      <td>6570.0</td>\n",
       "      <td>0.253577</td>\n",
       "      <td>0.435091</td>\n",
       "      <td>0.000000</td>\n",
       "      <td>0.000000</td>\n",
       "      <td>0.000000</td>\n",
       "      <td>1.000000</td>\n",
       "      <td>1.000000</td>\n",
       "    </tr>\n",
       "    <tr>\n",
       "      <th>Seasons_Summer</th>\n",
       "      <td>6570.0</td>\n",
       "      <td>0.251446</td>\n",
       "      <td>0.433877</td>\n",
       "      <td>0.000000</td>\n",
       "      <td>0.000000</td>\n",
       "      <td>0.000000</td>\n",
       "      <td>1.000000</td>\n",
       "      <td>1.000000</td>\n",
       "    </tr>\n",
       "    <tr>\n",
       "      <th>Seasons_Winter</th>\n",
       "      <td>6570.0</td>\n",
       "      <td>0.241857</td>\n",
       "      <td>0.428241</td>\n",
       "      <td>0.000000</td>\n",
       "      <td>0.000000</td>\n",
       "      <td>0.000000</td>\n",
       "      <td>0.000000</td>\n",
       "      <td>1.000000</td>\n",
       "    </tr>\n",
       "    <tr>\n",
       "      <th>Holiday_No Holiday</th>\n",
       "      <td>6570.0</td>\n",
       "      <td>0.949467</td>\n",
       "      <td>0.219058</td>\n",
       "      <td>0.000000</td>\n",
       "      <td>1.000000</td>\n",
       "      <td>1.000000</td>\n",
       "      <td>1.000000</td>\n",
       "      <td>1.000000</td>\n",
       "    </tr>\n",
       "    <tr>\n",
       "      <th>Func_Day_Yes</th>\n",
       "      <td>6570.0</td>\n",
       "      <td>0.965449</td>\n",
       "      <td>0.182653</td>\n",
       "      <td>0.000000</td>\n",
       "      <td>1.000000</td>\n",
       "      <td>1.000000</td>\n",
       "      <td>1.000000</td>\n",
       "      <td>1.000000</td>\n",
       "    </tr>\n",
       "    <tr>\n",
       "      <th>Month_Aug</th>\n",
       "      <td>6570.0</td>\n",
       "      <td>0.084779</td>\n",
       "      <td>0.278574</td>\n",
       "      <td>0.000000</td>\n",
       "      <td>0.000000</td>\n",
       "      <td>0.000000</td>\n",
       "      <td>0.000000</td>\n",
       "      <td>1.000000</td>\n",
       "    </tr>\n",
       "    <tr>\n",
       "      <th>Month_Dec</th>\n",
       "      <td>6570.0</td>\n",
       "      <td>0.084627</td>\n",
       "      <td>0.278347</td>\n",
       "      <td>0.000000</td>\n",
       "      <td>0.000000</td>\n",
       "      <td>0.000000</td>\n",
       "      <td>0.000000</td>\n",
       "      <td>1.000000</td>\n",
       "    </tr>\n",
       "    <tr>\n",
       "      <th>Month_Feb</th>\n",
       "      <td>6570.0</td>\n",
       "      <td>0.080518</td>\n",
       "      <td>0.272113</td>\n",
       "      <td>0.000000</td>\n",
       "      <td>0.000000</td>\n",
       "      <td>0.000000</td>\n",
       "      <td>0.000000</td>\n",
       "      <td>1.000000</td>\n",
       "    </tr>\n",
       "    <tr>\n",
       "      <th>Month_Jan</th>\n",
       "      <td>6570.0</td>\n",
       "      <td>0.081431</td>\n",
       "      <td>0.273516</td>\n",
       "      <td>0.000000</td>\n",
       "      <td>0.000000</td>\n",
       "      <td>0.000000</td>\n",
       "      <td>0.000000</td>\n",
       "      <td>1.000000</td>\n",
       "    </tr>\n",
       "    <tr>\n",
       "      <th>Month_Jul</th>\n",
       "      <td>6570.0</td>\n",
       "      <td>0.084170</td>\n",
       "      <td>0.277664</td>\n",
       "      <td>0.000000</td>\n",
       "      <td>0.000000</td>\n",
       "      <td>0.000000</td>\n",
       "      <td>0.000000</td>\n",
       "      <td>1.000000</td>\n",
       "    </tr>\n",
       "    <tr>\n",
       "      <th>Month_Jun</th>\n",
       "      <td>6570.0</td>\n",
       "      <td>0.081735</td>\n",
       "      <td>0.273982</td>\n",
       "      <td>0.000000</td>\n",
       "      <td>0.000000</td>\n",
       "      <td>0.000000</td>\n",
       "      <td>0.000000</td>\n",
       "      <td>1.000000</td>\n",
       "    </tr>\n",
       "    <tr>\n",
       "      <th>Month_Mar</th>\n",
       "      <td>6570.0</td>\n",
       "      <td>0.083562</td>\n",
       "      <td>0.276750</td>\n",
       "      <td>0.000000</td>\n",
       "      <td>0.000000</td>\n",
       "      <td>0.000000</td>\n",
       "      <td>0.000000</td>\n",
       "      <td>1.000000</td>\n",
       "    </tr>\n",
       "    <tr>\n",
       "      <th>Month_May</th>\n",
       "      <td>6570.0</td>\n",
       "      <td>0.084932</td>\n",
       "      <td>0.278801</td>\n",
       "      <td>0.000000</td>\n",
       "      <td>0.000000</td>\n",
       "      <td>0.000000</td>\n",
       "      <td>0.000000</td>\n",
       "      <td>1.000000</td>\n",
       "    </tr>\n",
       "    <tr>\n",
       "      <th>Month_Nov</th>\n",
       "      <td>6570.0</td>\n",
       "      <td>0.080670</td>\n",
       "      <td>0.272348</td>\n",
       "      <td>0.000000</td>\n",
       "      <td>0.000000</td>\n",
       "      <td>0.000000</td>\n",
       "      <td>0.000000</td>\n",
       "      <td>1.000000</td>\n",
       "    </tr>\n",
       "    <tr>\n",
       "      <th>Month_Oct</th>\n",
       "      <td>6570.0</td>\n",
       "      <td>0.086454</td>\n",
       "      <td>0.281054</td>\n",
       "      <td>0.000000</td>\n",
       "      <td>0.000000</td>\n",
       "      <td>0.000000</td>\n",
       "      <td>0.000000</td>\n",
       "      <td>1.000000</td>\n",
       "    </tr>\n",
       "    <tr>\n",
       "      <th>Month_Sep</th>\n",
       "      <td>6570.0</td>\n",
       "      <td>0.083562</td>\n",
       "      <td>0.276750</td>\n",
       "      <td>0.000000</td>\n",
       "      <td>0.000000</td>\n",
       "      <td>0.000000</td>\n",
       "      <td>0.000000</td>\n",
       "      <td>1.000000</td>\n",
       "    </tr>\n",
       "    <tr>\n",
       "      <th>Weekdays_Tuesday</th>\n",
       "      <td>6570.0</td>\n",
       "      <td>0.144901</td>\n",
       "      <td>0.352028</td>\n",
       "      <td>0.000000</td>\n",
       "      <td>0.000000</td>\n",
       "      <td>0.000000</td>\n",
       "      <td>0.000000</td>\n",
       "      <td>1.000000</td>\n",
       "    </tr>\n",
       "    <tr>\n",
       "      <th>Weekdays_Wednesday</th>\n",
       "      <td>6570.0</td>\n",
       "      <td>0.145358</td>\n",
       "      <td>0.352488</td>\n",
       "      <td>0.000000</td>\n",
       "      <td>0.000000</td>\n",
       "      <td>0.000000</td>\n",
       "      <td>0.000000</td>\n",
       "      <td>1.000000</td>\n",
       "    </tr>\n",
       "    <tr>\n",
       "      <th>Weekdays_Thursday</th>\n",
       "      <td>6570.0</td>\n",
       "      <td>0.141705</td>\n",
       "      <td>0.348774</td>\n",
       "      <td>0.000000</td>\n",
       "      <td>0.000000</td>\n",
       "      <td>0.000000</td>\n",
       "      <td>0.000000</td>\n",
       "      <td>1.000000</td>\n",
       "    </tr>\n",
       "    <tr>\n",
       "      <th>Weekdays_Friday</th>\n",
       "      <td>6570.0</td>\n",
       "      <td>0.137443</td>\n",
       "      <td>0.344341</td>\n",
       "      <td>0.000000</td>\n",
       "      <td>0.000000</td>\n",
       "      <td>0.000000</td>\n",
       "      <td>0.000000</td>\n",
       "      <td>1.000000</td>\n",
       "    </tr>\n",
       "    <tr>\n",
       "      <th>Weekdays_Saturday</th>\n",
       "      <td>6570.0</td>\n",
       "      <td>0.144597</td>\n",
       "      <td>0.351720</td>\n",
       "      <td>0.000000</td>\n",
       "      <td>0.000000</td>\n",
       "      <td>0.000000</td>\n",
       "      <td>0.000000</td>\n",
       "      <td>1.000000</td>\n",
       "    </tr>\n",
       "    <tr>\n",
       "      <th>Weekdays_Sunday</th>\n",
       "      <td>6570.0</td>\n",
       "      <td>0.150685</td>\n",
       "      <td>0.357769</td>\n",
       "      <td>0.000000</td>\n",
       "      <td>0.000000</td>\n",
       "      <td>0.000000</td>\n",
       "      <td>0.000000</td>\n",
       "      <td>1.000000</td>\n",
       "    </tr>\n",
       "    <tr>\n",
       "      <th>Year_2018</th>\n",
       "      <td>6570.0</td>\n",
       "      <td>0.917960</td>\n",
       "      <td>0.274446</td>\n",
       "      <td>0.000000</td>\n",
       "      <td>1.000000</td>\n",
       "      <td>1.000000</td>\n",
       "      <td>1.000000</td>\n",
       "      <td>1.000000</td>\n",
       "    </tr>\n",
       "  </tbody>\n",
       "</table>\n",
       "</div>"
      ],
      "text/plain": [
       "                     count      mean       std       min       25%       50%  \\\n",
       "Rent_bike_c         6570.0  0.399228  0.276188  0.000000  0.139701  0.378806   \n",
       "Hour                6570.0  0.008829  0.010392  0.000000  0.003769  0.006666   \n",
       "Temperature         6570.0  0.009526  0.011956 -0.036010  0.002978  0.008299   \n",
       "Humidity            6570.0  0.057933  0.081279  0.000000  0.020385  0.030788   \n",
       "WindSpeed           6570.0  0.001354  0.001579  0.000000  0.000579  0.000950   \n",
       "Visibility          6570.0  0.851181  0.171074  0.099624  0.767774  0.915878   \n",
       "Dew_point_tem       6570.0  0.004063  0.012667 -0.048572 -0.003488  0.003147   \n",
       "Solar_Rad           6570.0  0.000344  0.000542  0.000000  0.000000  0.000008   \n",
       "Rainfall            6570.0  0.000356  0.003568  0.000000  0.000000  0.000000   \n",
       "Snowfall            6570.0  0.000151  0.001534  0.000000  0.000000  0.000000   \n",
       "Seasons_Spring      6570.0  0.253577  0.435091  0.000000  0.000000  0.000000   \n",
       "Seasons_Summer      6570.0  0.251446  0.433877  0.000000  0.000000  0.000000   \n",
       "Seasons_Winter      6570.0  0.241857  0.428241  0.000000  0.000000  0.000000   \n",
       "Holiday_No Holiday  6570.0  0.949467  0.219058  0.000000  1.000000  1.000000   \n",
       "Func_Day_Yes        6570.0  0.965449  0.182653  0.000000  1.000000  1.000000   \n",
       "Month_Aug           6570.0  0.084779  0.278574  0.000000  0.000000  0.000000   \n",
       "Month_Dec           6570.0  0.084627  0.278347  0.000000  0.000000  0.000000   \n",
       "Month_Feb           6570.0  0.080518  0.272113  0.000000  0.000000  0.000000   \n",
       "Month_Jan           6570.0  0.081431  0.273516  0.000000  0.000000  0.000000   \n",
       "Month_Jul           6570.0  0.084170  0.277664  0.000000  0.000000  0.000000   \n",
       "Month_Jun           6570.0  0.081735  0.273982  0.000000  0.000000  0.000000   \n",
       "Month_Mar           6570.0  0.083562  0.276750  0.000000  0.000000  0.000000   \n",
       "Month_May           6570.0  0.084932  0.278801  0.000000  0.000000  0.000000   \n",
       "Month_Nov           6570.0  0.080670  0.272348  0.000000  0.000000  0.000000   \n",
       "Month_Oct           6570.0  0.086454  0.281054  0.000000  0.000000  0.000000   \n",
       "Month_Sep           6570.0  0.083562  0.276750  0.000000  0.000000  0.000000   \n",
       "Weekdays_Tuesday    6570.0  0.144901  0.352028  0.000000  0.000000  0.000000   \n",
       "Weekdays_Wednesday  6570.0  0.145358  0.352488  0.000000  0.000000  0.000000   \n",
       "Weekdays_Thursday   6570.0  0.141705  0.348774  0.000000  0.000000  0.000000   \n",
       "Weekdays_Friday     6570.0  0.137443  0.344341  0.000000  0.000000  0.000000   \n",
       "Weekdays_Saturday   6570.0  0.144597  0.351720  0.000000  0.000000  0.000000   \n",
       "Weekdays_Sunday     6570.0  0.150685  0.357769  0.000000  0.000000  0.000000   \n",
       "Year_2018           6570.0  0.917960  0.274446  0.000000  1.000000  1.000000   \n",
       "\n",
       "                         75%       max  \n",
       "Rent_bike_c         0.630352  0.993749  \n",
       "Hour                0.009906  0.181313  \n",
       "Temperature         0.013215  0.143278  \n",
       "Humidity            0.054335  0.909913  \n",
       "WindSpeed           0.001549  0.028928  \n",
       "Visibility          0.985871  0.999868  \n",
       "Dew_point_tem       0.008635  0.139223  \n",
       "Solar_Rad           0.000550  0.004687  \n",
       "Rainfall            0.000000  0.125030  \n",
       "Snowfall            0.000000  0.066602  \n",
       "Seasons_Spring      1.000000  1.000000  \n",
       "Seasons_Summer      1.000000  1.000000  \n",
       "Seasons_Winter      0.000000  1.000000  \n",
       "Holiday_No Holiday  1.000000  1.000000  \n",
       "Func_Day_Yes        1.000000  1.000000  \n",
       "Month_Aug           0.000000  1.000000  \n",
       "Month_Dec           0.000000  1.000000  \n",
       "Month_Feb           0.000000  1.000000  \n",
       "Month_Jan           0.000000  1.000000  \n",
       "Month_Jul           0.000000  1.000000  \n",
       "Month_Jun           0.000000  1.000000  \n",
       "Month_Mar           0.000000  1.000000  \n",
       "Month_May           0.000000  1.000000  \n",
       "Month_Nov           0.000000  1.000000  \n",
       "Month_Oct           0.000000  1.000000  \n",
       "Month_Sep           0.000000  1.000000  \n",
       "Weekdays_Tuesday    0.000000  1.000000  \n",
       "Weekdays_Wednesday  0.000000  1.000000  \n",
       "Weekdays_Thursday   0.000000  1.000000  \n",
       "Weekdays_Friday     0.000000  1.000000  \n",
       "Weekdays_Saturday   0.000000  1.000000  \n",
       "Weekdays_Sunday     0.000000  1.000000  \n",
       "Year_2018           1.000000  1.000000  "
      ]
     },
     "execution_count": 58,
     "metadata": {},
     "output_type": "execute_result"
    }
   ],
   "source": [
    "train_data.describe().T"
   ]
  },
  {
   "cell_type": "code",
   "execution_count": 59,
   "metadata": {},
   "outputs": [],
   "source": [
    "corr = pd.DataFrame(train_data.corr())\n",
    "corr.to_csv('bike_rent_count_corr.csv')"
   ]
  },
  {
   "cell_type": "code",
   "execution_count": 60,
   "metadata": {},
   "outputs": [],
   "source": [
    "#Selecting target and input variables.\n",
    "x_train = train_data.drop('Rent_bike_c',axis=1)\n",
    "y_train = train_data['Rent_bike_c']"
   ]
  },
  {
   "cell_type": "code",
   "execution_count": 61,
   "metadata": {},
   "outputs": [
    {
     "data": {
      "text/plain": [
       "((6570, 32), (6570,))"
      ]
     },
     "execution_count": 61,
     "metadata": {},
     "output_type": "execute_result"
    }
   ],
   "source": [
    "x_train.shape,y_train.shape"
   ]
  },
  {
   "cell_type": "code",
   "execution_count": 62,
   "metadata": {},
   "outputs": [
    {
     "data": {
      "text/plain": [
       "LinearRegression(copy_X=True, fit_intercept=True, n_jobs=None, normalize=False)"
      ]
     },
     "execution_count": 62,
     "metadata": {},
     "output_type": "execute_result"
    }
   ],
   "source": [
    "from sklearn.linear_model import LinearRegression\n",
    "model = LinearRegression()\n",
    "model.fit(x_train,y_train)"
   ]
  },
  {
   "cell_type": "code",
   "execution_count": 63,
   "metadata": {},
   "outputs": [],
   "source": [
    "y_train_pred = model.predict(x_train)"
   ]
  },
  {
   "cell_type": "code",
   "execution_count": 64,
   "metadata": {},
   "outputs": [
    {
     "name": "stdout",
     "output_type": "stream",
     "text": [
      "mean_squared_error is 0.00730191887642766\n",
      "r2_score is 0.9042601236401301\n"
     ]
    }
   ],
   "source": [
    "from sklearn.metrics import mean_squared_error,r2_score\n",
    "print('mean_squared_error is',mean_squared_error(y_train,y_train_pred))\n",
    "print('r2_score is',r2_score(y_train,y_train_pred))"
   ]
  },
  {
   "cell_type": "code",
   "execution_count": 65,
   "metadata": {
    "scrolled": true
   },
   "outputs": [
    {
     "data": {
      "text/html": [
       "<table class=\"simpletable\">\n",
       "<caption>OLS Regression Results</caption>\n",
       "<tr>\n",
       "  <th>Dep. Variable:</th>       <td>Rent_bike_c</td>   <th>  R-squared:         </th>  <td>   0.904</td> \n",
       "</tr>\n",
       "<tr>\n",
       "  <th>Model:</th>                   <td>OLS</td>       <th>  Adj. R-squared:    </th>  <td>   0.904</td> \n",
       "</tr>\n",
       "<tr>\n",
       "  <th>Method:</th>             <td>Least Squares</td>  <th>  F-statistic:       </th>  <td>   1929.</td> \n",
       "</tr>\n",
       "<tr>\n",
       "  <th>Date:</th>             <td>Tue, 15 Mar 2022</td> <th>  Prob (F-statistic):</th>   <td>  0.00</td>  \n",
       "</tr>\n",
       "<tr>\n",
       "  <th>Time:</th>                 <td>22:14:17</td>     <th>  Log-Likelihood:    </th>  <td>  6838.5</td> \n",
       "</tr>\n",
       "<tr>\n",
       "  <th>No. Observations:</th>      <td>  6570</td>      <th>  AIC:               </th> <td>-1.361e+04</td>\n",
       "</tr>\n",
       "<tr>\n",
       "  <th>Df Residuals:</th>          <td>  6537</td>      <th>  BIC:               </th> <td>-1.339e+04</td>\n",
       "</tr>\n",
       "<tr>\n",
       "  <th>Df Model:</th>              <td>    32</td>      <th>                     </th>      <td> </td>    \n",
       "</tr>\n",
       "<tr>\n",
       "  <th>Covariance Type:</th>      <td>nonrobust</td>    <th>                     </th>      <td> </td>    \n",
       "</tr>\n",
       "</table>\n",
       "<table class=\"simpletable\">\n",
       "<tr>\n",
       "           <td></td>             <th>coef</th>     <th>std err</th>      <th>t</th>      <th>P>|t|</th>  <th>[0.025</th>    <th>0.975]</th>  \n",
       "</tr>\n",
       "<tr>\n",
       "  <th>const</th>              <td>    1.2897</td> <td>    0.013</td> <td>   98.240</td> <td> 0.000</td> <td>    1.264</td> <td>    1.315</td>\n",
       "</tr>\n",
       "<tr>\n",
       "  <th>Hour</th>               <td>    0.9983</td> <td>    0.141</td> <td>    7.092</td> <td> 0.000</td> <td>    0.722</td> <td>    1.274</td>\n",
       "</tr>\n",
       "<tr>\n",
       "  <th>Temperature</th>        <td>    9.6508</td> <td>    0.476</td> <td>   20.258</td> <td> 0.000</td> <td>    8.717</td> <td>   10.585</td>\n",
       "</tr>\n",
       "<tr>\n",
       "  <th>Humidity</th>           <td>   -0.4058</td> <td>    0.028</td> <td>  -14.515</td> <td> 0.000</td> <td>   -0.461</td> <td>   -0.351</td>\n",
       "</tr>\n",
       "<tr>\n",
       "  <th>WindSpeed</th>          <td>   -2.4880</td> <td>    1.021</td> <td>   -2.438</td> <td> 0.015</td> <td>   -4.489</td> <td>   -0.487</td>\n",
       "</tr>\n",
       "<tr>\n",
       "  <th>Visibility</th>         <td>   -1.3471</td> <td>    0.007</td> <td> -188.513</td> <td> 0.000</td> <td>   -1.361</td> <td>   -1.333</td>\n",
       "</tr>\n",
       "<tr>\n",
       "  <th>Dew_point_tem</th>      <td>   -8.9802</td> <td>    0.462</td> <td>  -19.443</td> <td> 0.000</td> <td>   -9.886</td> <td>   -8.075</td>\n",
       "</tr>\n",
       "<tr>\n",
       "  <th>Solar_Rad</th>          <td>   10.1409</td> <td>    2.547</td> <td>    3.982</td> <td> 0.000</td> <td>    5.148</td> <td>   15.134</td>\n",
       "</tr>\n",
       "<tr>\n",
       "  <th>Rainfall</th>           <td>   -4.6629</td> <td>    0.355</td> <td>  -13.152</td> <td> 0.000</td> <td>   -5.358</td> <td>   -3.968</td>\n",
       "</tr>\n",
       "<tr>\n",
       "  <th>Snowfall</th>           <td>    0.0682</td> <td>    0.846</td> <td>    0.081</td> <td> 0.936</td> <td>   -1.590</td> <td>    1.727</td>\n",
       "</tr>\n",
       "<tr>\n",
       "  <th>Seasons_Spring</th>     <td>   -0.0376</td> <td>    0.004</td> <td>   -9.831</td> <td> 0.000</td> <td>   -0.045</td> <td>   -0.030</td>\n",
       "</tr>\n",
       "<tr>\n",
       "  <th>Seasons_Summer</th>     <td>    0.0063</td> <td>    0.004</td> <td>    1.553</td> <td> 0.121</td> <td>   -0.002</td> <td>    0.014</td>\n",
       "</tr>\n",
       "<tr>\n",
       "  <th>Seasons_Winter</th>     <td>   -0.1321</td> <td>    0.005</td> <td>  -26.405</td> <td> 0.000</td> <td>   -0.142</td> <td>   -0.122</td>\n",
       "</tr>\n",
       "<tr>\n",
       "  <th>Holiday_No Holiday</th> <td>    0.0350</td> <td>    0.005</td> <td>    6.986</td> <td> 0.000</td> <td>    0.025</td> <td>    0.045</td>\n",
       "</tr>\n",
       "<tr>\n",
       "  <th>Func_Day_Yes</th>       <td>    0.2656</td> <td>    0.006</td> <td>   41.270</td> <td> 0.000</td> <td>    0.253</td> <td>    0.278</td>\n",
       "</tr>\n",
       "<tr>\n",
       "  <th>Month_Aug</th>          <td>   -0.0021</td> <td>    0.006</td> <td>   -0.369</td> <td> 0.712</td> <td>   -0.013</td> <td>    0.009</td>\n",
       "</tr>\n",
       "<tr>\n",
       "  <th>Month_Dec</th>          <td>   -0.0118</td> <td>    0.006</td> <td>   -1.920</td> <td> 0.055</td> <td>   -0.024</td> <td>    0.000</td>\n",
       "</tr>\n",
       "<tr>\n",
       "  <th>Month_Feb</th>          <td>    0.0150</td> <td>    0.006</td> <td>    2.588</td> <td> 0.010</td> <td>    0.004</td> <td>    0.026</td>\n",
       "</tr>\n",
       "<tr>\n",
       "  <th>Month_Jan</th>          <td>    0.0024</td> <td>    0.006</td> <td>    0.412</td> <td> 0.680</td> <td>   -0.009</td> <td>    0.014</td>\n",
       "</tr>\n",
       "<tr>\n",
       "  <th>Month_Jul</th>          <td>    0.0097</td> <td>    0.006</td> <td>    1.712</td> <td> 0.087</td> <td>   -0.001</td> <td>    0.021</td>\n",
       "</tr>\n",
       "<tr>\n",
       "  <th>Month_Jun</th>          <td>   -0.0110</td> <td>    0.006</td> <td>   -1.936</td> <td> 0.053</td> <td>   -0.022</td> <td>    0.000</td>\n",
       "</tr>\n",
       "<tr>\n",
       "  <th>Month_Mar</th>          <td>    0.0033</td> <td>    0.005</td> <td>    0.641</td> <td> 0.522</td> <td>   -0.007</td> <td>    0.014</td>\n",
       "</tr>\n",
       "<tr>\n",
       "  <th>Month_May</th>          <td>    0.0064</td> <td>    0.005</td> <td>    1.217</td> <td> 0.224</td> <td>   -0.004</td> <td>    0.017</td>\n",
       "</tr>\n",
       "<tr>\n",
       "  <th>Month_Nov</th>          <td>   -0.0084</td> <td>    0.006</td> <td>   -1.459</td> <td> 0.145</td> <td>   -0.020</td> <td>    0.003</td>\n",
       "</tr>\n",
       "<tr>\n",
       "  <th>Month_Oct</th>          <td>    0.0095</td> <td>    0.006</td> <td>    1.679</td> <td> 0.093</td> <td>   -0.002</td> <td>    0.021</td>\n",
       "</tr>\n",
       "<tr>\n",
       "  <th>Month_Sep</th>          <td>    0.0197</td> <td>    0.006</td> <td>    3.441</td> <td> 0.001</td> <td>    0.008</td> <td>    0.031</td>\n",
       "</tr>\n",
       "<tr>\n",
       "  <th>Weekdays_Tuesday</th>   <td>    0.0132</td> <td>    0.004</td> <td>    3.278</td> <td> 0.001</td> <td>    0.005</td> <td>    0.021</td>\n",
       "</tr>\n",
       "<tr>\n",
       "  <th>Weekdays_Wednesday</th> <td>    0.0154</td> <td>    0.004</td> <td>    3.823</td> <td> 0.000</td> <td>    0.007</td> <td>    0.023</td>\n",
       "</tr>\n",
       "<tr>\n",
       "  <th>Weekdays_Thursday</th>  <td>    0.0146</td> <td>    0.004</td> <td>    3.591</td> <td> 0.000</td> <td>    0.007</td> <td>    0.023</td>\n",
       "</tr>\n",
       "<tr>\n",
       "  <th>Weekdays_Friday</th>    <td>    0.0111</td> <td>    0.004</td> <td>    2.729</td> <td> 0.006</td> <td>    0.003</td> <td>    0.019</td>\n",
       "</tr>\n",
       "<tr>\n",
       "  <th>Weekdays_Saturday</th>  <td>    0.0152</td> <td>    0.004</td> <td>    3.763</td> <td> 0.000</td> <td>    0.007</td> <td>    0.023</td>\n",
       "</tr>\n",
       "<tr>\n",
       "  <th>Weekdays_Sunday</th>    <td>    0.0061</td> <td>    0.004</td> <td>    1.532</td> <td> 0.126</td> <td>   -0.002</td> <td>    0.014</td>\n",
       "</tr>\n",
       "<tr>\n",
       "  <th>Year_2018</th>          <td>   -0.0505</td> <td>    0.006</td> <td>   -8.696</td> <td> 0.000</td> <td>   -0.062</td> <td>   -0.039</td>\n",
       "</tr>\n",
       "</table>\n",
       "<table class=\"simpletable\">\n",
       "<tr>\n",
       "  <th>Omnibus:</th>       <td>377.380</td> <th>  Durbin-Watson:     </th> <td>   1.981</td> \n",
       "</tr>\n",
       "<tr>\n",
       "  <th>Prob(Omnibus):</th> <td> 0.000</td>  <th>  Jarque-Bera (JB):  </th> <td> 470.418</td> \n",
       "</tr>\n",
       "<tr>\n",
       "  <th>Skew:</th>          <td>-0.568</td>  <th>  Prob(JB):          </th> <td>7.08e-103</td>\n",
       "</tr>\n",
       "<tr>\n",
       "  <th>Kurtosis:</th>      <td> 3.655</td>  <th>  Cond. No.          </th> <td>5.36e+03</td> \n",
       "</tr>\n",
       "</table><br/><br/>Warnings:<br/>[1] Standard Errors assume that the covariance matrix of the errors is correctly specified.<br/>[2] The condition number is large, 5.36e+03. This might indicate that there are<br/>strong multicollinearity or other numerical problems."
      ],
      "text/plain": [
       "<class 'statsmodels.iolib.summary.Summary'>\n",
       "\"\"\"\n",
       "                            OLS Regression Results                            \n",
       "==============================================================================\n",
       "Dep. Variable:            Rent_bike_c   R-squared:                       0.904\n",
       "Model:                            OLS   Adj. R-squared:                  0.904\n",
       "Method:                 Least Squares   F-statistic:                     1929.\n",
       "Date:                Tue, 15 Mar 2022   Prob (F-statistic):               0.00\n",
       "Time:                        22:14:17   Log-Likelihood:                 6838.5\n",
       "No. Observations:                6570   AIC:                        -1.361e+04\n",
       "Df Residuals:                    6537   BIC:                        -1.339e+04\n",
       "Df Model:                          32                                         \n",
       "Covariance Type:            nonrobust                                         \n",
       "======================================================================================\n",
       "                         coef    std err          t      P>|t|      [0.025      0.975]\n",
       "--------------------------------------------------------------------------------------\n",
       "const                  1.2897      0.013     98.240      0.000       1.264       1.315\n",
       "Hour                   0.9983      0.141      7.092      0.000       0.722       1.274\n",
       "Temperature            9.6508      0.476     20.258      0.000       8.717      10.585\n",
       "Humidity              -0.4058      0.028    -14.515      0.000      -0.461      -0.351\n",
       "WindSpeed             -2.4880      1.021     -2.438      0.015      -4.489      -0.487\n",
       "Visibility            -1.3471      0.007   -188.513      0.000      -1.361      -1.333\n",
       "Dew_point_tem         -8.9802      0.462    -19.443      0.000      -9.886      -8.075\n",
       "Solar_Rad             10.1409      2.547      3.982      0.000       5.148      15.134\n",
       "Rainfall              -4.6629      0.355    -13.152      0.000      -5.358      -3.968\n",
       "Snowfall               0.0682      0.846      0.081      0.936      -1.590       1.727\n",
       "Seasons_Spring        -0.0376      0.004     -9.831      0.000      -0.045      -0.030\n",
       "Seasons_Summer         0.0063      0.004      1.553      0.121      -0.002       0.014\n",
       "Seasons_Winter        -0.1321      0.005    -26.405      0.000      -0.142      -0.122\n",
       "Holiday_No Holiday     0.0350      0.005      6.986      0.000       0.025       0.045\n",
       "Func_Day_Yes           0.2656      0.006     41.270      0.000       0.253       0.278\n",
       "Month_Aug             -0.0021      0.006     -0.369      0.712      -0.013       0.009\n",
       "Month_Dec             -0.0118      0.006     -1.920      0.055      -0.024       0.000\n",
       "Month_Feb              0.0150      0.006      2.588      0.010       0.004       0.026\n",
       "Month_Jan              0.0024      0.006      0.412      0.680      -0.009       0.014\n",
       "Month_Jul              0.0097      0.006      1.712      0.087      -0.001       0.021\n",
       "Month_Jun             -0.0110      0.006     -1.936      0.053      -0.022       0.000\n",
       "Month_Mar              0.0033      0.005      0.641      0.522      -0.007       0.014\n",
       "Month_May              0.0064      0.005      1.217      0.224      -0.004       0.017\n",
       "Month_Nov             -0.0084      0.006     -1.459      0.145      -0.020       0.003\n",
       "Month_Oct              0.0095      0.006      1.679      0.093      -0.002       0.021\n",
       "Month_Sep              0.0197      0.006      3.441      0.001       0.008       0.031\n",
       "Weekdays_Tuesday       0.0132      0.004      3.278      0.001       0.005       0.021\n",
       "Weekdays_Wednesday     0.0154      0.004      3.823      0.000       0.007       0.023\n",
       "Weekdays_Thursday      0.0146      0.004      3.591      0.000       0.007       0.023\n",
       "Weekdays_Friday        0.0111      0.004      2.729      0.006       0.003       0.019\n",
       "Weekdays_Saturday      0.0152      0.004      3.763      0.000       0.007       0.023\n",
       "Weekdays_Sunday        0.0061      0.004      1.532      0.126      -0.002       0.014\n",
       "Year_2018             -0.0505      0.006     -8.696      0.000      -0.062      -0.039\n",
       "==============================================================================\n",
       "Omnibus:                      377.380   Durbin-Watson:                   1.981\n",
       "Prob(Omnibus):                  0.000   Jarque-Bera (JB):              470.418\n",
       "Skew:                          -0.568   Prob(JB):                    7.08e-103\n",
       "Kurtosis:                       3.655   Cond. No.                     5.36e+03\n",
       "==============================================================================\n",
       "\n",
       "Warnings:\n",
       "[1] Standard Errors assume that the covariance matrix of the errors is correctly specified.\n",
       "[2] The condition number is large, 5.36e+03. This might indicate that there are\n",
       "strong multicollinearity or other numerical problems.\n",
       "\"\"\""
      ]
     },
     "execution_count": 65,
     "metadata": {},
     "output_type": "execute_result"
    }
   ],
   "source": [
    "import statsmodels.api as sm\n",
    "x_train_all = sm.add_constant(x_train)\n",
    "lr = sm.OLS(y_train,x_train_all).fit()\n",
    "lr.summary()"
   ]
  },
  {
   "cell_type": "code",
   "execution_count": 66,
   "metadata": {},
   "outputs": [],
   "source": [
    "#Dropping variables whos P value is greater than 0.05(Significant variables) and variables which have greater than 5 VIF value.\n",
    "x_train_new =x_train.drop(['Snowfall','Month_Jan','Month_Mar','Month_Aug','Month_May','Seasons_Summer',\n",
    "                           'Month_Oct','Weekdays_Sunday','Dew_point_tem','Month_Nov','WindSpeed','Month_Jul',\n",
    "                            'Weekdays_Friday','Weekdays_Thursday','Weekdays_Wednesday','Year_2018',\n",
    "                           'Func_Day_Yes','Holiday_No Holiday','Month_Dec','Weekdays_Tuesday','Month_Feb'],axis=1)"
   ]
  },
  {
   "cell_type": "code",
   "execution_count": 67,
   "metadata": {},
   "outputs": [],
   "source": [
    "from sklearn.linear_model import LinearRegression\n",
    "model = LinearRegression()\n",
    "model.fit(x_train_new,y_train)\n",
    "y_train_pred1 = model.predict(x_train_new)"
   ]
  },
  {
   "cell_type": "code",
   "execution_count": 68,
   "metadata": {},
   "outputs": [
    {
     "name": "stdout",
     "output_type": "stream",
     "text": [
      "mean_squared_error is 0.009737581394442068\n",
      "r2_score is 0.8723246786871791\n"
     ]
    }
   ],
   "source": [
    "from sklearn.metrics import mean_squared_error,r2_score\n",
    "print('mean_squared_error is',mean_squared_error(y_train,y_train_pred1))\n",
    "print('r2_score is',r2_score(y_train,y_train_pred1))"
   ]
  },
  {
   "cell_type": "code",
   "execution_count": 69,
   "metadata": {},
   "outputs": [
    {
     "data": {
      "text/html": [
       "<table class=\"simpletable\">\n",
       "<caption>OLS Regression Results</caption>\n",
       "<tr>\n",
       "  <th>Dep. Variable:</th>       <td>Rent_bike_c</td>   <th>  R-squared:         </th>  <td>   0.872</td> \n",
       "</tr>\n",
       "<tr>\n",
       "  <th>Model:</th>                   <td>OLS</td>       <th>  Adj. R-squared:    </th>  <td>   0.872</td> \n",
       "</tr>\n",
       "<tr>\n",
       "  <th>Method:</th>             <td>Least Squares</td>  <th>  F-statistic:       </th>  <td>   4073.</td> \n",
       "</tr>\n",
       "<tr>\n",
       "  <th>Date:</th>             <td>Tue, 15 Mar 2022</td> <th>  Prob (F-statistic):</th>   <td>  0.00</td>  \n",
       "</tr>\n",
       "<tr>\n",
       "  <th>Time:</th>                 <td>22:14:23</td>     <th>  Log-Likelihood:    </th>  <td>  5892.9</td> \n",
       "</tr>\n",
       "<tr>\n",
       "  <th>No. Observations:</th>      <td>  6570</td>      <th>  AIC:               </th> <td>-1.176e+04</td>\n",
       "</tr>\n",
       "<tr>\n",
       "  <th>Df Residuals:</th>          <td>  6558</td>      <th>  BIC:               </th> <td>-1.168e+04</td>\n",
       "</tr>\n",
       "<tr>\n",
       "  <th>Df Model:</th>              <td>    11</td>      <th>                     </th>      <td> </td>    \n",
       "</tr>\n",
       "<tr>\n",
       "  <th>Covariance Type:</th>      <td>nonrobust</td>    <th>                     </th>      <td> </td>    \n",
       "</tr>\n",
       "</table>\n",
       "<table class=\"simpletable\">\n",
       "<tr>\n",
       "          <td></td>             <th>coef</th>     <th>std err</th>      <th>t</th>      <th>P>|t|</th>  <th>[0.025</th>    <th>0.975]</th>  \n",
       "</tr>\n",
       "<tr>\n",
       "  <th>const</th>             <td>    1.6336</td> <td>    0.007</td> <td>  223.134</td> <td> 0.000</td> <td>    1.619</td> <td>    1.648</td>\n",
       "</tr>\n",
       "<tr>\n",
       "  <th>Hour</th>              <td>    0.7314</td> <td>    0.158</td> <td>    4.618</td> <td> 0.000</td> <td>    0.421</td> <td>    1.042</td>\n",
       "</tr>\n",
       "<tr>\n",
       "  <th>Temperature</th>       <td>    0.9904</td> <td>    0.166</td> <td>    5.977</td> <td> 0.000</td> <td>    0.666</td> <td>    1.315</td>\n",
       "</tr>\n",
       "<tr>\n",
       "  <th>Humidity</th>          <td>   -0.4639</td> <td>    0.024</td> <td>  -19.469</td> <td> 0.000</td> <td>   -0.511</td> <td>   -0.417</td>\n",
       "</tr>\n",
       "<tr>\n",
       "  <th>Visibility</th>        <td>   -1.4143</td> <td>    0.008</td> <td> -178.545</td> <td> 0.000</td> <td>   -1.430</td> <td>   -1.399</td>\n",
       "</tr>\n",
       "<tr>\n",
       "  <th>Solar_Rad</th>         <td>   28.3109</td> <td>    2.413</td> <td>   11.731</td> <td> 0.000</td> <td>   23.580</td> <td>   33.042</td>\n",
       "</tr>\n",
       "<tr>\n",
       "  <th>Rainfall</th>          <td>   -4.9860</td> <td>    0.392</td> <td>  -12.730</td> <td> 0.000</td> <td>   -5.754</td> <td>   -4.218</td>\n",
       "</tr>\n",
       "<tr>\n",
       "  <th>Seasons_Spring</th>    <td>   -0.0263</td> <td>    0.003</td> <td>   -8.461</td> <td> 0.000</td> <td>   -0.032</td> <td>   -0.020</td>\n",
       "</tr>\n",
       "<tr>\n",
       "  <th>Seasons_Winter</th>    <td>   -0.0728</td> <td>    0.004</td> <td>  -18.016</td> <td> 0.000</td> <td>   -0.081</td> <td>   -0.065</td>\n",
       "</tr>\n",
       "<tr>\n",
       "  <th>Month_Jun</th>         <td>   -0.0279</td> <td>    0.005</td> <td>   -6.001</td> <td> 0.000</td> <td>   -0.037</td> <td>   -0.019</td>\n",
       "</tr>\n",
       "<tr>\n",
       "  <th>Month_Sep</th>         <td>   -0.0342</td> <td>    0.005</td> <td>   -7.545</td> <td> 0.000</td> <td>   -0.043</td> <td>   -0.025</td>\n",
       "</tr>\n",
       "<tr>\n",
       "  <th>Weekdays_Saturday</th> <td>    0.0132</td> <td>    0.003</td> <td>    3.791</td> <td> 0.000</td> <td>    0.006</td> <td>    0.020</td>\n",
       "</tr>\n",
       "</table>\n",
       "<table class=\"simpletable\">\n",
       "<tr>\n",
       "  <th>Omnibus:</th>       <td>587.052</td> <th>  Durbin-Watson:     </th> <td>   1.977</td> \n",
       "</tr>\n",
       "<tr>\n",
       "  <th>Prob(Omnibus):</th> <td> 0.000</td>  <th>  Jarque-Bera (JB):  </th> <td> 765.320</td> \n",
       "</tr>\n",
       "<tr>\n",
       "  <th>Skew:</th>          <td>-0.774</td>  <th>  Prob(JB):          </th> <td>6.50e-167</td>\n",
       "</tr>\n",
       "<tr>\n",
       "  <th>Kurtosis:</th>      <td> 3.633</td>  <th>  Cond. No.          </th> <td>2.74e+03</td> \n",
       "</tr>\n",
       "</table><br/><br/>Warnings:<br/>[1] Standard Errors assume that the covariance matrix of the errors is correctly specified.<br/>[2] The condition number is large, 2.74e+03. This might indicate that there are<br/>strong multicollinearity or other numerical problems."
      ],
      "text/plain": [
       "<class 'statsmodels.iolib.summary.Summary'>\n",
       "\"\"\"\n",
       "                            OLS Regression Results                            \n",
       "==============================================================================\n",
       "Dep. Variable:            Rent_bike_c   R-squared:                       0.872\n",
       "Model:                            OLS   Adj. R-squared:                  0.872\n",
       "Method:                 Least Squares   F-statistic:                     4073.\n",
       "Date:                Tue, 15 Mar 2022   Prob (F-statistic):               0.00\n",
       "Time:                        22:14:23   Log-Likelihood:                 5892.9\n",
       "No. Observations:                6570   AIC:                        -1.176e+04\n",
       "Df Residuals:                    6558   BIC:                        -1.168e+04\n",
       "Df Model:                          11                                         \n",
       "Covariance Type:            nonrobust                                         \n",
       "=====================================================================================\n",
       "                        coef    std err          t      P>|t|      [0.025      0.975]\n",
       "-------------------------------------------------------------------------------------\n",
       "const                 1.6336      0.007    223.134      0.000       1.619       1.648\n",
       "Hour                  0.7314      0.158      4.618      0.000       0.421       1.042\n",
       "Temperature           0.9904      0.166      5.977      0.000       0.666       1.315\n",
       "Humidity             -0.4639      0.024    -19.469      0.000      -0.511      -0.417\n",
       "Visibility           -1.4143      0.008   -178.545      0.000      -1.430      -1.399\n",
       "Solar_Rad            28.3109      2.413     11.731      0.000      23.580      33.042\n",
       "Rainfall             -4.9860      0.392    -12.730      0.000      -5.754      -4.218\n",
       "Seasons_Spring       -0.0263      0.003     -8.461      0.000      -0.032      -0.020\n",
       "Seasons_Winter       -0.0728      0.004    -18.016      0.000      -0.081      -0.065\n",
       "Month_Jun            -0.0279      0.005     -6.001      0.000      -0.037      -0.019\n",
       "Month_Sep            -0.0342      0.005     -7.545      0.000      -0.043      -0.025\n",
       "Weekdays_Saturday     0.0132      0.003      3.791      0.000       0.006       0.020\n",
       "==============================================================================\n",
       "Omnibus:                      587.052   Durbin-Watson:                   1.977\n",
       "Prob(Omnibus):                  0.000   Jarque-Bera (JB):              765.320\n",
       "Skew:                          -0.774   Prob(JB):                    6.50e-167\n",
       "Kurtosis:                       3.633   Cond. No.                     2.74e+03\n",
       "==============================================================================\n",
       "\n",
       "Warnings:\n",
       "[1] Standard Errors assume that the covariance matrix of the errors is correctly specified.\n",
       "[2] The condition number is large, 2.74e+03. This might indicate that there are\n",
       "strong multicollinearity or other numerical problems.\n",
       "\"\"\""
      ]
     },
     "execution_count": 69,
     "metadata": {},
     "output_type": "execute_result"
    }
   ],
   "source": [
    "#Now we have all variables whose P value is less than 0.05.(all significant variable we have)\n",
    "import statsmodels.api as sm\n",
    "x_train_final = sm.add_constant(x_train_new)\n",
    "lr = sm.OLS(y_train,x_train_final).fit()\n",
    "lr.summary()"
   ]
  },
  {
   "cell_type": "code",
   "execution_count": 70,
   "metadata": {},
   "outputs": [],
   "source": [
    "#Check for multicollinearity between variables\n",
    "from statsmodels.stats.outliers_influence import variance_inflation_factor\n",
    "def calc_vif(x_train):\n",
    "    # Calculating VIF\n",
    "    vif = pd.DataFrame()\n",
    "    vif[\"variables\"] = x_train.columns\n",
    "    vif[\"VIF\"] = [variance_inflation_factor(x_train.values, i) for i in range(x_train.shape[1])]\n",
    "    return vif"
   ]
  },
  {
   "cell_type": "code",
   "execution_count": 71,
   "metadata": {},
   "outputs": [
    {
     "data": {
      "text/html": [
       "<div>\n",
       "<style scoped>\n",
       "    .dataframe tbody tr th:only-of-type {\n",
       "        vertical-align: middle;\n",
       "    }\n",
       "\n",
       "    .dataframe tbody tr th {\n",
       "        vertical-align: top;\n",
       "    }\n",
       "\n",
       "    .dataframe thead th {\n",
       "        text-align: right;\n",
       "    }\n",
       "</style>\n",
       "<table border=\"1\" class=\"dataframe\">\n",
       "  <thead>\n",
       "    <tr style=\"text-align: right;\">\n",
       "      <th></th>\n",
       "      <th>variables</th>\n",
       "      <th>VIF</th>\n",
       "    </tr>\n",
       "  </thead>\n",
       "  <tbody>\n",
       "    <tr>\n",
       "      <th>0</th>\n",
       "      <td>const</td>\n",
       "      <td>36.097527</td>\n",
       "    </tr>\n",
       "    <tr>\n",
       "      <th>1</th>\n",
       "      <td>Hour</td>\n",
       "      <td>1.824042</td>\n",
       "    </tr>\n",
       "    <tr>\n",
       "      <th>2</th>\n",
       "      <td>Temperature</td>\n",
       "      <td>2.643109</td>\n",
       "    </tr>\n",
       "    <tr>\n",
       "      <th>3</th>\n",
       "      <td>Humidity</td>\n",
       "      <td>2.525627</td>\n",
       "    </tr>\n",
       "    <tr>\n",
       "      <th>4</th>\n",
       "      <td>Visibility</td>\n",
       "      <td>1.236606</td>\n",
       "    </tr>\n",
       "    <tr>\n",
       "      <th>5</th>\n",
       "      <td>Solar_Rad</td>\n",
       "      <td>1.150038</td>\n",
       "    </tr>\n",
       "    <tr>\n",
       "      <th>6</th>\n",
       "      <td>Rainfall</td>\n",
       "      <td>1.314885</td>\n",
       "    </tr>\n",
       "    <tr>\n",
       "      <th>7</th>\n",
       "      <td>Seasons_Spring</td>\n",
       "      <td>1.228215</td>\n",
       "    </tr>\n",
       "    <tr>\n",
       "      <th>8</th>\n",
       "      <td>Seasons_Winter</td>\n",
       "      <td>2.015653</td>\n",
       "    </tr>\n",
       "    <tr>\n",
       "      <th>9</th>\n",
       "      <td>Month_Jun</td>\n",
       "      <td>1.094993</td>\n",
       "    </tr>\n",
       "    <tr>\n",
       "      <th>10</th>\n",
       "      <td>Month_Sep</td>\n",
       "      <td>1.056621</td>\n",
       "    </tr>\n",
       "    <tr>\n",
       "      <th>11</th>\n",
       "      <td>Weekdays_Saturday</td>\n",
       "      <td>1.012091</td>\n",
       "    </tr>\n",
       "  </tbody>\n",
       "</table>\n",
       "</div>"
      ],
      "text/plain": [
       "            variables        VIF\n",
       "0               const  36.097527\n",
       "1                Hour   1.824042\n",
       "2         Temperature   2.643109\n",
       "3            Humidity   2.525627\n",
       "4          Visibility   1.236606\n",
       "5           Solar_Rad   1.150038\n",
       "6            Rainfall   1.314885\n",
       "7      Seasons_Spring   1.228215\n",
       "8      Seasons_Winter   2.015653\n",
       "9           Month_Jun   1.094993\n",
       "10          Month_Sep   1.056621\n",
       "11  Weekdays_Saturday   1.012091"
      ]
     },
     "execution_count": 71,
     "metadata": {},
     "output_type": "execute_result"
    }
   ],
   "source": [
    "calc_vif(x_train_final)"
   ]
  },
  {
   "cell_type": "markdown",
   "metadata": {},
   "source": [
    "Testing data"
   ]
  },
  {
   "cell_type": "code",
   "execution_count": 72,
   "metadata": {},
   "outputs": [
    {
     "name": "stderr",
     "output_type": "stream",
     "text": [
      "C:\\ProgramData\\Anaconda3\\lib\\site-packages\\ipykernel_launcher.py:1: SettingWithCopyWarning: \n",
      "A value is trying to be set on a copy of a slice from a DataFrame.\n",
      "Try using .loc[row_indexer,col_indexer] = value instead\n",
      "\n",
      "See the caveats in the documentation: https://pandas.pydata.org/pandas-docs/stable/user_guide/indexing.html#returning-a-view-versus-a-copy\n",
      "  \"\"\"Entry point for launching an IPython kernel.\n",
      "C:\\ProgramData\\Anaconda3\\lib\\site-packages\\pandas\\core\\indexing.py:965: SettingWithCopyWarning: \n",
      "A value is trying to be set on a copy of a slice from a DataFrame.\n",
      "Try using .loc[row_indexer,col_indexer] = value instead\n",
      "\n",
      "See the caveats in the documentation: https://pandas.pydata.org/pandas-docs/stable/user_guide/indexing.html#returning-a-view-versus-a-copy\n",
      "  self.obj[item] = s\n"
     ]
    }
   ],
   "source": [
    "test_data[num_cols] = scaling.transform(test_data[num_cols])"
   ]
  },
  {
   "cell_type": "code",
   "execution_count": 73,
   "metadata": {},
   "outputs": [],
   "source": [
    "test_cols = x_train_final.columns"
   ]
  },
  {
   "cell_type": "code",
   "execution_count": 74,
   "metadata": {},
   "outputs": [],
   "source": [
    "x_test = test_data[test_cols[1:]]\n",
    "y_test = test_data['Rent_bike_c']"
   ]
  },
  {
   "cell_type": "code",
   "execution_count": 75,
   "metadata": {},
   "outputs": [],
   "source": [
    "x_test = sm.add_constant(x_test)"
   ]
  },
  {
   "cell_type": "code",
   "execution_count": 76,
   "metadata": {
    "scrolled": true
   },
   "outputs": [
    {
     "data": {
      "text/html": [
       "<table class=\"simpletable\">\n",
       "<caption>OLS Regression Results</caption>\n",
       "<tr>\n",
       "  <th>Dep. Variable:</th>       <td>Rent_bike_c</td>   <th>  R-squared:         </th>  <td>   0.872</td> \n",
       "</tr>\n",
       "<tr>\n",
       "  <th>Model:</th>                   <td>OLS</td>       <th>  Adj. R-squared:    </th>  <td>   0.872</td> \n",
       "</tr>\n",
       "<tr>\n",
       "  <th>Method:</th>             <td>Least Squares</td>  <th>  F-statistic:       </th>  <td>   4073.</td> \n",
       "</tr>\n",
       "<tr>\n",
       "  <th>Date:</th>             <td>Tue, 15 Mar 2022</td> <th>  Prob (F-statistic):</th>   <td>  0.00</td>  \n",
       "</tr>\n",
       "<tr>\n",
       "  <th>Time:</th>                 <td>22:14:30</td>     <th>  Log-Likelihood:    </th>  <td>  5892.9</td> \n",
       "</tr>\n",
       "<tr>\n",
       "  <th>No. Observations:</th>      <td>  6570</td>      <th>  AIC:               </th> <td>-1.176e+04</td>\n",
       "</tr>\n",
       "<tr>\n",
       "  <th>Df Residuals:</th>          <td>  6558</td>      <th>  BIC:               </th> <td>-1.168e+04</td>\n",
       "</tr>\n",
       "<tr>\n",
       "  <th>Df Model:</th>              <td>    11</td>      <th>                     </th>      <td> </td>    \n",
       "</tr>\n",
       "<tr>\n",
       "  <th>Covariance Type:</th>      <td>nonrobust</td>    <th>                     </th>      <td> </td>    \n",
       "</tr>\n",
       "</table>\n",
       "<table class=\"simpletable\">\n",
       "<tr>\n",
       "          <td></td>             <th>coef</th>     <th>std err</th>      <th>t</th>      <th>P>|t|</th>  <th>[0.025</th>    <th>0.975]</th>  \n",
       "</tr>\n",
       "<tr>\n",
       "  <th>const</th>             <td>    1.6336</td> <td>    0.007</td> <td>  223.134</td> <td> 0.000</td> <td>    1.619</td> <td>    1.648</td>\n",
       "</tr>\n",
       "<tr>\n",
       "  <th>Hour</th>              <td>    0.7314</td> <td>    0.158</td> <td>    4.618</td> <td> 0.000</td> <td>    0.421</td> <td>    1.042</td>\n",
       "</tr>\n",
       "<tr>\n",
       "  <th>Temperature</th>       <td>    0.9904</td> <td>    0.166</td> <td>    5.977</td> <td> 0.000</td> <td>    0.666</td> <td>    1.315</td>\n",
       "</tr>\n",
       "<tr>\n",
       "  <th>Humidity</th>          <td>   -0.4639</td> <td>    0.024</td> <td>  -19.469</td> <td> 0.000</td> <td>   -0.511</td> <td>   -0.417</td>\n",
       "</tr>\n",
       "<tr>\n",
       "  <th>Visibility</th>        <td>   -1.4143</td> <td>    0.008</td> <td> -178.545</td> <td> 0.000</td> <td>   -1.430</td> <td>   -1.399</td>\n",
       "</tr>\n",
       "<tr>\n",
       "  <th>Solar_Rad</th>         <td>   28.3109</td> <td>    2.413</td> <td>   11.731</td> <td> 0.000</td> <td>   23.580</td> <td>   33.042</td>\n",
       "</tr>\n",
       "<tr>\n",
       "  <th>Rainfall</th>          <td>   -4.9860</td> <td>    0.392</td> <td>  -12.730</td> <td> 0.000</td> <td>   -5.754</td> <td>   -4.218</td>\n",
       "</tr>\n",
       "<tr>\n",
       "  <th>Seasons_Spring</th>    <td>   -0.0263</td> <td>    0.003</td> <td>   -8.461</td> <td> 0.000</td> <td>   -0.032</td> <td>   -0.020</td>\n",
       "</tr>\n",
       "<tr>\n",
       "  <th>Seasons_Winter</th>    <td>   -0.0728</td> <td>    0.004</td> <td>  -18.016</td> <td> 0.000</td> <td>   -0.081</td> <td>   -0.065</td>\n",
       "</tr>\n",
       "<tr>\n",
       "  <th>Month_Jun</th>         <td>   -0.0279</td> <td>    0.005</td> <td>   -6.001</td> <td> 0.000</td> <td>   -0.037</td> <td>   -0.019</td>\n",
       "</tr>\n",
       "<tr>\n",
       "  <th>Month_Sep</th>         <td>   -0.0342</td> <td>    0.005</td> <td>   -7.545</td> <td> 0.000</td> <td>   -0.043</td> <td>   -0.025</td>\n",
       "</tr>\n",
       "<tr>\n",
       "  <th>Weekdays_Saturday</th> <td>    0.0132</td> <td>    0.003</td> <td>    3.791</td> <td> 0.000</td> <td>    0.006</td> <td>    0.020</td>\n",
       "</tr>\n",
       "</table>\n",
       "<table class=\"simpletable\">\n",
       "<tr>\n",
       "  <th>Omnibus:</th>       <td>587.052</td> <th>  Durbin-Watson:     </th> <td>   1.977</td> \n",
       "</tr>\n",
       "<tr>\n",
       "  <th>Prob(Omnibus):</th> <td> 0.000</td>  <th>  Jarque-Bera (JB):  </th> <td> 765.320</td> \n",
       "</tr>\n",
       "<tr>\n",
       "  <th>Skew:</th>          <td>-0.774</td>  <th>  Prob(JB):          </th> <td>6.50e-167</td>\n",
       "</tr>\n",
       "<tr>\n",
       "  <th>Kurtosis:</th>      <td> 3.633</td>  <th>  Cond. No.          </th> <td>2.74e+03</td> \n",
       "</tr>\n",
       "</table><br/><br/>Warnings:<br/>[1] Standard Errors assume that the covariance matrix of the errors is correctly specified.<br/>[2] The condition number is large, 2.74e+03. This might indicate that there are<br/>strong multicollinearity or other numerical problems."
      ],
      "text/plain": [
       "<class 'statsmodels.iolib.summary.Summary'>\n",
       "\"\"\"\n",
       "                            OLS Regression Results                            \n",
       "==============================================================================\n",
       "Dep. Variable:            Rent_bike_c   R-squared:                       0.872\n",
       "Model:                            OLS   Adj. R-squared:                  0.872\n",
       "Method:                 Least Squares   F-statistic:                     4073.\n",
       "Date:                Tue, 15 Mar 2022   Prob (F-statistic):               0.00\n",
       "Time:                        22:14:30   Log-Likelihood:                 5892.9\n",
       "No. Observations:                6570   AIC:                        -1.176e+04\n",
       "Df Residuals:                    6558   BIC:                        -1.168e+04\n",
       "Df Model:                          11                                         \n",
       "Covariance Type:            nonrobust                                         \n",
       "=====================================================================================\n",
       "                        coef    std err          t      P>|t|      [0.025      0.975]\n",
       "-------------------------------------------------------------------------------------\n",
       "const                 1.6336      0.007    223.134      0.000       1.619       1.648\n",
       "Hour                  0.7314      0.158      4.618      0.000       0.421       1.042\n",
       "Temperature           0.9904      0.166      5.977      0.000       0.666       1.315\n",
       "Humidity             -0.4639      0.024    -19.469      0.000      -0.511      -0.417\n",
       "Visibility           -1.4143      0.008   -178.545      0.000      -1.430      -1.399\n",
       "Solar_Rad            28.3109      2.413     11.731      0.000      23.580      33.042\n",
       "Rainfall             -4.9860      0.392    -12.730      0.000      -5.754      -4.218\n",
       "Seasons_Spring       -0.0263      0.003     -8.461      0.000      -0.032      -0.020\n",
       "Seasons_Winter       -0.0728      0.004    -18.016      0.000      -0.081      -0.065\n",
       "Month_Jun            -0.0279      0.005     -6.001      0.000      -0.037      -0.019\n",
       "Month_Sep            -0.0342      0.005     -7.545      0.000      -0.043      -0.025\n",
       "Weekdays_Saturday     0.0132      0.003      3.791      0.000       0.006       0.020\n",
       "==============================================================================\n",
       "Omnibus:                      587.052   Durbin-Watson:                   1.977\n",
       "Prob(Omnibus):                  0.000   Jarque-Bera (JB):              765.320\n",
       "Skew:                          -0.774   Prob(JB):                    6.50e-167\n",
       "Kurtosis:                       3.633   Cond. No.                     2.74e+03\n",
       "==============================================================================\n",
       "\n",
       "Warnings:\n",
       "[1] Standard Errors assume that the covariance matrix of the errors is correctly specified.\n",
       "[2] The condition number is large, 2.74e+03. This might indicate that there are\n",
       "strong multicollinearity or other numerical problems.\n",
       "\"\"\""
      ]
     },
     "execution_count": 76,
     "metadata": {},
     "output_type": "execute_result"
    }
   ],
   "source": [
    "test_col = x_train_final.columns\n",
    "x_test=x_test[test_col[1:]]\n",
    "# Adding constant variable to test dataframe\n",
    "x_test = sm.add_constant(x_test)\n",
    "lr.summary()"
   ]
  },
  {
   "cell_type": "code",
   "execution_count": 77,
   "metadata": {},
   "outputs": [],
   "source": [
    "y_pred_test = lr.predict(x_test)"
   ]
  },
  {
   "cell_type": "code",
   "execution_count": 80,
   "metadata": {},
   "outputs": [
    {
     "data": {
      "text/plain": [
       "0.8746080199211311"
      ]
     },
     "execution_count": 80,
     "metadata": {},
     "output_type": "execute_result"
    }
   ],
   "source": [
    "r2_score(y_test, y_pred_test)"
   ]
  },
  {
   "cell_type": "code",
   "execution_count": 81,
   "metadata": {},
   "outputs": [
    {
     "data": {
      "text/plain": [
       "0.00943932087414814"
      ]
     },
     "execution_count": 81,
     "metadata": {},
     "output_type": "execute_result"
    }
   ],
   "source": [
    "mean_squared_error(y_test, y_pred_test)"
   ]
  },
  {
   "cell_type": "markdown",
   "metadata": {},
   "source": [
    "Random Forest"
   ]
  },
  {
   "cell_type": "code",
   "execution_count": 82,
   "metadata": {},
   "outputs": [],
   "source": [
    "x_train_rf = x_train_final.drop('const',axis=1)\n",
    "x_test_rf = x_test.drop('const',axis=1)"
   ]
  },
  {
   "cell_type": "code",
   "execution_count": 83,
   "metadata": {},
   "outputs": [
    {
     "data": {
      "text/plain": [
       "RandomForestRegressor(bootstrap=True, ccp_alpha=0.0, criterion='mse',\n",
       "                      max_depth=3, max_features='auto', max_leaf_nodes=None,\n",
       "                      max_samples=None, min_impurity_decrease=0.0,\n",
       "                      min_impurity_split=None, min_samples_leaf=1,\n",
       "                      min_samples_split=2, min_weight_fraction_leaf=0.0,\n",
       "                      n_estimators=700, n_jobs=None, oob_score=False,\n",
       "                      random_state=0, verbose=0, warm_start=False)"
      ]
     },
     "execution_count": 83,
     "metadata": {},
     "output_type": "execute_result"
    }
   ],
   "source": [
    "from sklearn.ensemble import RandomForestRegressor\n",
    " \n",
    " # create regressor object\n",
    "rf = RandomForestRegressor(max_depth=3,n_estimators = 700, random_state = 0)\n",
    " \n",
    "# fit the regressor with x and y data\n",
    "rf.fit(x_train_rf, y_train) "
   ]
  },
  {
   "cell_type": "code",
   "execution_count": 84,
   "metadata": {},
   "outputs": [],
   "source": [
    "y_train_pred = rf.predict(x_train_rf)"
   ]
  },
  {
   "cell_type": "code",
   "execution_count": 85,
   "metadata": {},
   "outputs": [
    {
     "data": {
      "text/plain": [
       "0.9592869672704996"
      ]
     },
     "execution_count": 85,
     "metadata": {},
     "output_type": "execute_result"
    }
   ],
   "source": [
    "r2_score(y_train,y_train_pred)"
   ]
  },
  {
   "cell_type": "code",
   "execution_count": 86,
   "metadata": {},
   "outputs": [],
   "source": [
    "y_test_pred = rf.predict(x_test_rf)"
   ]
  },
  {
   "cell_type": "code",
   "execution_count": 87,
   "metadata": {},
   "outputs": [
    {
     "data": {
      "text/plain": [
       "0.9626970054842539"
      ]
     },
     "execution_count": 87,
     "metadata": {},
     "output_type": "execute_result"
    }
   ],
   "source": [
    "r2_score(y_test,y_test_pred)"
   ]
  },
  {
   "cell_type": "code",
   "execution_count": 89,
   "metadata": {},
   "outputs": [],
   "source": [
    "# Save model\n",
    "import pickle\n",
    "with open('randomForest.sav', 'wb') as f:\n",
    "    pickle.dump(rf, f)"
   ]
  },
  {
   "cell_type": "raw",
   "metadata": {},
   "source": [
    "#Reading saved model\n",
    "with open('finalizedmode.sav', 'rb') as f:\n",
    "    loaded_model = pickle.load(f)\n",
    "\n",
    "#Making prediction on data\n",
    "prediction = loaded_model.predict(data)"
   ]
  }
 ],
 "metadata": {
  "kernelspec": {
   "display_name": "Python 3",
   "language": "python",
   "name": "python3"
  },
  "language_info": {
   "codemirror_mode": {
    "name": "ipython",
    "version": 3
   },
   "file_extension": ".py",
   "mimetype": "text/x-python",
   "name": "python",
   "nbconvert_exporter": "python",
   "pygments_lexer": "ipython3",
   "version": "3.7.6"
  }
 },
 "nbformat": 4,
 "nbformat_minor": 4
}
